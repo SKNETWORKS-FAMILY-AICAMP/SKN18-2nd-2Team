{
 "cells": [
  {
   "cell_type": "markdown",
   "metadata": {
    "id": "tIWjKpuYSJGY"
   },
   "source": [
    "# kaggle및 구글드라이브에서 데이터셋 불러오기"
   ]
  },
  {
   "cell_type": "code",
   "execution_count": 1,
   "metadata": {
    "colab": {
     "base_uri": "https://localhost:8080/"
    },
    "executionInfo": {
     "elapsed": 4575,
     "status": "ok",
     "timestamp": 1756349753503,
     "user": {
      "displayName": "최준호",
      "userId": "06420941156344591338"
     },
     "user_tz": -540
    },
    "id": "C3Y5_puCQJMM",
    "outputId": "5bf1e523-3358-4096-c766-14d98adb0c9e"
   },
   "outputs": [],
   "source": [
    "# train/test파일 읽기\n",
    "import pandas as pd\n",
    "\n",
    "train_df = pd.read_csv(\"./data/train.csv\")\n",
    "test_df = pd.read_csv(\"./data/test.csv\")"
   ]
  },
  {
   "cell_type": "code",
   "execution_count": 2,
   "metadata": {
    "colab": {
     "base_uri": "https://localhost:8080/",
     "height": 469
    },
    "executionInfo": {
     "elapsed": 1126,
     "status": "ok",
     "timestamp": 1756349754663,
     "user": {
      "displayName": "최준호",
      "userId": "06420941156344591338"
     },
     "user_tz": -540
    },
    "id": "KKTt3UKlQS9e",
    "outputId": "7ee4aec9-736d-4b77-913c-1c7ffd5f2249"
   },
   "outputs": [
    {
     "data": {
      "text/html": [
       "<div>\n",
       "<style scoped>\n",
       "    .dataframe tbody tr th:only-of-type {\n",
       "        vertical-align: middle;\n",
       "    }\n",
       "\n",
       "    .dataframe tbody tr th {\n",
       "        vertical-align: top;\n",
       "    }\n",
       "\n",
       "    .dataframe thead th {\n",
       "        text-align: right;\n",
       "    }\n",
       "</style>\n",
       "<table border=\"1\" class=\"dataframe\">\n",
       "  <thead>\n",
       "    <tr style=\"text-align: right;\">\n",
       "      <th></th>\n",
       "      <th>customer_id</th>\n",
       "      <th>age</th>\n",
       "      <th>gender</th>\n",
       "      <th>subscription_type</th>\n",
       "      <th>watch_hours</th>\n",
       "      <th>last_login_days</th>\n",
       "      <th>region</th>\n",
       "      <th>device</th>\n",
       "      <th>monthly_fee</th>\n",
       "      <th>payment_method</th>\n",
       "      <th>number_of_profiles</th>\n",
       "      <th>avg_watch_time_per_day</th>\n",
       "      <th>favorite_genre</th>\n",
       "      <th>churned</th>\n",
       "    </tr>\n",
       "  </thead>\n",
       "  <tbody>\n",
       "    <tr>\n",
       "      <th>0</th>\n",
       "      <td>5b9fc53d-960a-475a-b189-b54d9c7564a6</td>\n",
       "      <td>35</td>\n",
       "      <td>Female</td>\n",
       "      <td>Premium</td>\n",
       "      <td>8.44</td>\n",
       "      <td>47</td>\n",
       "      <td>Asia</td>\n",
       "      <td>Laptop</td>\n",
       "      <td>17.99</td>\n",
       "      <td>Crypto</td>\n",
       "      <td>4</td>\n",
       "      <td>0.18</td>\n",
       "      <td>Sci-Fi</td>\n",
       "      <td>1</td>\n",
       "    </tr>\n",
       "    <tr>\n",
       "      <th>1</th>\n",
       "      <td>44c431b4-0f1a-4403-b701-98ab0f23f260</td>\n",
       "      <td>70</td>\n",
       "      <td>Other</td>\n",
       "      <td>Standard</td>\n",
       "      <td>4.75</td>\n",
       "      <td>54</td>\n",
       "      <td>Europe</td>\n",
       "      <td>Mobile</td>\n",
       "      <td>13.99</td>\n",
       "      <td>Gift Card</td>\n",
       "      <td>3</td>\n",
       "      <td>0.09</td>\n",
       "      <td>Romance</td>\n",
       "      <td>1</td>\n",
       "    </tr>\n",
       "    <tr>\n",
       "      <th>2</th>\n",
       "      <td>5bdfbdcf-ab7b-41da-b1d5-51f819eb66dc</td>\n",
       "      <td>52</td>\n",
       "      <td>Female</td>\n",
       "      <td>Basic</td>\n",
       "      <td>22.21</td>\n",
       "      <td>54</td>\n",
       "      <td>Oceania</td>\n",
       "      <td>TV</td>\n",
       "      <td>8.99</td>\n",
       "      <td>Credit Card</td>\n",
       "      <td>1</td>\n",
       "      <td>0.40</td>\n",
       "      <td>Romance</td>\n",
       "      <td>1</td>\n",
       "    </tr>\n",
       "    <tr>\n",
       "      <th>3</th>\n",
       "      <td>a6439c47-77e6-4c51-b834-0f66b0f1a239</td>\n",
       "      <td>48</td>\n",
       "      <td>Female</td>\n",
       "      <td>Premium</td>\n",
       "      <td>9.65</td>\n",
       "      <td>60</td>\n",
       "      <td>Oceania</td>\n",
       "      <td>Laptop</td>\n",
       "      <td>17.99</td>\n",
       "      <td>Gift Card</td>\n",
       "      <td>4</td>\n",
       "      <td>0.16</td>\n",
       "      <td>Drama</td>\n",
       "      <td>1</td>\n",
       "    </tr>\n",
       "    <tr>\n",
       "      <th>4</th>\n",
       "      <td>9ab55bb5-1957-46a6-8472-d26b2fda624a</td>\n",
       "      <td>47</td>\n",
       "      <td>Other</td>\n",
       "      <td>Basic</td>\n",
       "      <td>13.22</td>\n",
       "      <td>8</td>\n",
       "      <td>North America</td>\n",
       "      <td>Mobile</td>\n",
       "      <td>8.99</td>\n",
       "      <td>Crypto</td>\n",
       "      <td>4</td>\n",
       "      <td>1.47</td>\n",
       "      <td>Action</td>\n",
       "      <td>0</td>\n",
       "    </tr>\n",
       "  </tbody>\n",
       "</table>\n",
       "</div>"
      ],
      "text/plain": [
       "                            customer_id  age  gender subscription_type  \\\n",
       "0  5b9fc53d-960a-475a-b189-b54d9c7564a6   35  Female           Premium   \n",
       "1  44c431b4-0f1a-4403-b701-98ab0f23f260   70   Other          Standard   \n",
       "2  5bdfbdcf-ab7b-41da-b1d5-51f819eb66dc   52  Female             Basic   \n",
       "3  a6439c47-77e6-4c51-b834-0f66b0f1a239   48  Female           Premium   \n",
       "4  9ab55bb5-1957-46a6-8472-d26b2fda624a   47   Other             Basic   \n",
       "\n",
       "   watch_hours  last_login_days         region  device  monthly_fee  \\\n",
       "0         8.44               47           Asia  Laptop        17.99   \n",
       "1         4.75               54         Europe  Mobile        13.99   \n",
       "2        22.21               54        Oceania      TV         8.99   \n",
       "3         9.65               60        Oceania  Laptop        17.99   \n",
       "4        13.22                8  North America  Mobile         8.99   \n",
       "\n",
       "  payment_method  number_of_profiles  avg_watch_time_per_day favorite_genre  \\\n",
       "0         Crypto                   4                    0.18         Sci-Fi   \n",
       "1      Gift Card                   3                    0.09        Romance   \n",
       "2    Credit Card                   1                    0.40        Romance   \n",
       "3      Gift Card                   4                    0.16          Drama   \n",
       "4         Crypto                   4                    1.47         Action   \n",
       "\n",
       "   churned  \n",
       "0        1  \n",
       "1        1  \n",
       "2        1  \n",
       "3        1  \n",
       "4        0  "
      ]
     },
     "execution_count": 2,
     "metadata": {},
     "output_type": "execute_result"
    }
   ],
   "source": [
    "# csv 파일 읽기\n",
    "train_df.head()"
   ]
  },
  {
   "cell_type": "markdown",
   "metadata": {
    "id": "1PWUK5CkS4BX"
   },
   "source": [
    "# 머신러닝 분석에 필요없는 컬럼제거\n",
    "- customer_id"
   ]
  },
  {
   "cell_type": "code",
   "execution_count": 3,
   "metadata": {
    "colab": {
     "base_uri": "https://localhost:8080/",
     "height": 478
    },
    "executionInfo": {
     "elapsed": 306,
     "status": "ok",
     "timestamp": 1756349754985,
     "user": {
      "displayName": "최준호",
      "userId": "06420941156344591338"
     },
     "user_tz": -540
    },
    "id": "GrzBDECeRC4v",
    "outputId": "a3c30f68-d4cc-4572-de1d-889d261e4e07"
   },
   "outputs": [
    {
     "data": {
      "text/html": [
       "<div>\n",
       "<style scoped>\n",
       "    .dataframe tbody tr th:only-of-type {\n",
       "        vertical-align: middle;\n",
       "    }\n",
       "\n",
       "    .dataframe tbody tr th {\n",
       "        vertical-align: top;\n",
       "    }\n",
       "\n",
       "    .dataframe thead th {\n",
       "        text-align: right;\n",
       "    }\n",
       "</style>\n",
       "<table border=\"1\" class=\"dataframe\">\n",
       "  <thead>\n",
       "    <tr style=\"text-align: right;\">\n",
       "      <th></th>\n",
       "      <th>age</th>\n",
       "      <th>gender</th>\n",
       "      <th>subscription_type</th>\n",
       "      <th>watch_hours</th>\n",
       "      <th>last_login_days</th>\n",
       "      <th>region</th>\n",
       "      <th>device</th>\n",
       "      <th>monthly_fee</th>\n",
       "      <th>payment_method</th>\n",
       "      <th>number_of_profiles</th>\n",
       "      <th>avg_watch_time_per_day</th>\n",
       "      <th>favorite_genre</th>\n",
       "      <th>churned</th>\n",
       "    </tr>\n",
       "  </thead>\n",
       "  <tbody>\n",
       "    <tr>\n",
       "      <th>0</th>\n",
       "      <td>35</td>\n",
       "      <td>Female</td>\n",
       "      <td>Premium</td>\n",
       "      <td>8.44</td>\n",
       "      <td>47</td>\n",
       "      <td>Asia</td>\n",
       "      <td>Laptop</td>\n",
       "      <td>17.99</td>\n",
       "      <td>Crypto</td>\n",
       "      <td>4</td>\n",
       "      <td>0.18</td>\n",
       "      <td>Sci-Fi</td>\n",
       "      <td>1</td>\n",
       "    </tr>\n",
       "    <tr>\n",
       "      <th>1</th>\n",
       "      <td>70</td>\n",
       "      <td>Other</td>\n",
       "      <td>Standard</td>\n",
       "      <td>4.75</td>\n",
       "      <td>54</td>\n",
       "      <td>Europe</td>\n",
       "      <td>Mobile</td>\n",
       "      <td>13.99</td>\n",
       "      <td>Gift Card</td>\n",
       "      <td>3</td>\n",
       "      <td>0.09</td>\n",
       "      <td>Romance</td>\n",
       "      <td>1</td>\n",
       "    </tr>\n",
       "    <tr>\n",
       "      <th>2</th>\n",
       "      <td>52</td>\n",
       "      <td>Female</td>\n",
       "      <td>Basic</td>\n",
       "      <td>22.21</td>\n",
       "      <td>54</td>\n",
       "      <td>Oceania</td>\n",
       "      <td>TV</td>\n",
       "      <td>8.99</td>\n",
       "      <td>Credit Card</td>\n",
       "      <td>1</td>\n",
       "      <td>0.40</td>\n",
       "      <td>Romance</td>\n",
       "      <td>1</td>\n",
       "    </tr>\n",
       "    <tr>\n",
       "      <th>3</th>\n",
       "      <td>48</td>\n",
       "      <td>Female</td>\n",
       "      <td>Premium</td>\n",
       "      <td>9.65</td>\n",
       "      <td>60</td>\n",
       "      <td>Oceania</td>\n",
       "      <td>Laptop</td>\n",
       "      <td>17.99</td>\n",
       "      <td>Gift Card</td>\n",
       "      <td>4</td>\n",
       "      <td>0.16</td>\n",
       "      <td>Drama</td>\n",
       "      <td>1</td>\n",
       "    </tr>\n",
       "    <tr>\n",
       "      <th>4</th>\n",
       "      <td>47</td>\n",
       "      <td>Other</td>\n",
       "      <td>Basic</td>\n",
       "      <td>13.22</td>\n",
       "      <td>8</td>\n",
       "      <td>North America</td>\n",
       "      <td>Mobile</td>\n",
       "      <td>8.99</td>\n",
       "      <td>Crypto</td>\n",
       "      <td>4</td>\n",
       "      <td>1.47</td>\n",
       "      <td>Action</td>\n",
       "      <td>0</td>\n",
       "    </tr>\n",
       "    <tr>\n",
       "      <th>...</th>\n",
       "      <td>...</td>\n",
       "      <td>...</td>\n",
       "      <td>...</td>\n",
       "      <td>...</td>\n",
       "      <td>...</td>\n",
       "      <td>...</td>\n",
       "      <td>...</td>\n",
       "      <td>...</td>\n",
       "      <td>...</td>\n",
       "      <td>...</td>\n",
       "      <td>...</td>\n",
       "      <td>...</td>\n",
       "      <td>...</td>\n",
       "    </tr>\n",
       "    <tr>\n",
       "      <th>3495</th>\n",
       "      <td>64</td>\n",
       "      <td>Male</td>\n",
       "      <td>Premium</td>\n",
       "      <td>2.66</td>\n",
       "      <td>57</td>\n",
       "      <td>North America</td>\n",
       "      <td>Desktop</td>\n",
       "      <td>17.99</td>\n",
       "      <td>Credit Card</td>\n",
       "      <td>2</td>\n",
       "      <td>0.05</td>\n",
       "      <td>Romance</td>\n",
       "      <td>1</td>\n",
       "    </tr>\n",
       "    <tr>\n",
       "      <th>3496</th>\n",
       "      <td>20</td>\n",
       "      <td>Male</td>\n",
       "      <td>Basic</td>\n",
       "      <td>16.96</td>\n",
       "      <td>53</td>\n",
       "      <td>North America</td>\n",
       "      <td>Tablet</td>\n",
       "      <td>8.99</td>\n",
       "      <td>Gift Card</td>\n",
       "      <td>1</td>\n",
       "      <td>0.31</td>\n",
       "      <td>Action</td>\n",
       "      <td>1</td>\n",
       "    </tr>\n",
       "    <tr>\n",
       "      <th>3497</th>\n",
       "      <td>32</td>\n",
       "      <td>Female</td>\n",
       "      <td>Standard</td>\n",
       "      <td>52.67</td>\n",
       "      <td>34</td>\n",
       "      <td>Asia</td>\n",
       "      <td>Laptop</td>\n",
       "      <td>13.99</td>\n",
       "      <td>Gift Card</td>\n",
       "      <td>3</td>\n",
       "      <td>1.50</td>\n",
       "      <td>Sci-Fi</td>\n",
       "      <td>0</td>\n",
       "    </tr>\n",
       "    <tr>\n",
       "      <th>3498</th>\n",
       "      <td>67</td>\n",
       "      <td>Other</td>\n",
       "      <td>Standard</td>\n",
       "      <td>10.24</td>\n",
       "      <td>11</td>\n",
       "      <td>South America</td>\n",
       "      <td>Desktop</td>\n",
       "      <td>13.99</td>\n",
       "      <td>Debit Card</td>\n",
       "      <td>2</td>\n",
       "      <td>0.85</td>\n",
       "      <td>Romance</td>\n",
       "      <td>0</td>\n",
       "    </tr>\n",
       "    <tr>\n",
       "      <th>3499</th>\n",
       "      <td>44</td>\n",
       "      <td>Male</td>\n",
       "      <td>Standard</td>\n",
       "      <td>2.28</td>\n",
       "      <td>59</td>\n",
       "      <td>Asia</td>\n",
       "      <td>Laptop</td>\n",
       "      <td>13.99</td>\n",
       "      <td>Crypto</td>\n",
       "      <td>2</td>\n",
       "      <td>0.04</td>\n",
       "      <td>Comedy</td>\n",
       "      <td>1</td>\n",
       "    </tr>\n",
       "  </tbody>\n",
       "</table>\n",
       "<p>3500 rows × 13 columns</p>\n",
       "</div>"
      ],
      "text/plain": [
       "      age  gender subscription_type  watch_hours  last_login_days  \\\n",
       "0      35  Female           Premium         8.44               47   \n",
       "1      70   Other          Standard         4.75               54   \n",
       "2      52  Female             Basic        22.21               54   \n",
       "3      48  Female           Premium         9.65               60   \n",
       "4      47   Other             Basic        13.22                8   \n",
       "...   ...     ...               ...          ...              ...   \n",
       "3495   64    Male           Premium         2.66               57   \n",
       "3496   20    Male             Basic        16.96               53   \n",
       "3497   32  Female          Standard        52.67               34   \n",
       "3498   67   Other          Standard        10.24               11   \n",
       "3499   44    Male          Standard         2.28               59   \n",
       "\n",
       "             region   device  monthly_fee payment_method  number_of_profiles  \\\n",
       "0              Asia   Laptop        17.99         Crypto                   4   \n",
       "1            Europe   Mobile        13.99      Gift Card                   3   \n",
       "2           Oceania       TV         8.99    Credit Card                   1   \n",
       "3           Oceania   Laptop        17.99      Gift Card                   4   \n",
       "4     North America   Mobile         8.99         Crypto                   4   \n",
       "...             ...      ...          ...            ...                 ...   \n",
       "3495  North America  Desktop        17.99    Credit Card                   2   \n",
       "3496  North America   Tablet         8.99      Gift Card                   1   \n",
       "3497           Asia   Laptop        13.99      Gift Card                   3   \n",
       "3498  South America  Desktop        13.99     Debit Card                   2   \n",
       "3499           Asia   Laptop        13.99         Crypto                   2   \n",
       "\n",
       "      avg_watch_time_per_day favorite_genre  churned  \n",
       "0                       0.18         Sci-Fi        1  \n",
       "1                       0.09        Romance        1  \n",
       "2                       0.40        Romance        1  \n",
       "3                       0.16          Drama        1  \n",
       "4                       1.47         Action        0  \n",
       "...                      ...            ...      ...  \n",
       "3495                    0.05        Romance        1  \n",
       "3496                    0.31         Action        1  \n",
       "3497                    1.50         Sci-Fi        0  \n",
       "3498                    0.85        Romance        0  \n",
       "3499                    0.04         Comedy        1  \n",
       "\n",
       "[3500 rows x 13 columns]"
      ]
     },
     "execution_count": 3,
     "metadata": {},
     "output_type": "execute_result"
    }
   ],
   "source": [
    "# 필요없는 컬럼제거: customer_id\n",
    "train_df = train_df.drop(columns=['customer_id'], axis=1)\n",
    "train_df"
   ]
  },
  {
   "cell_type": "markdown",
   "metadata": {
    "id": "sxljAeqhTeoO"
   },
   "source": [
    "# 머신러닝을 위한 target과 feature 나누기\n",
    "- 고객 이탈(churned)을 예측하기 위함\n",
    "- target: churned, features: 나머지 12개 columns"
   ]
  },
  {
   "cell_type": "code",
   "execution_count": 4,
   "metadata": {
    "colab": {
     "base_uri": "https://localhost:8080/"
    },
    "executionInfo": {
     "elapsed": 33,
     "status": "ok",
     "timestamp": 1756349755036,
     "user": {
      "displayName": "최준호",
      "userId": "06420941156344591338"
     },
     "user_tz": -540
    },
    "id": "hJMIznu-TQmb",
    "outputId": "fff4f597-0cc0-4b70-f761-2e7da418b63d"
   },
   "outputs": [
    {
     "data": {
      "text/plain": [
       "(3500, 12)"
      ]
     },
     "execution_count": 4,
     "metadata": {},
     "output_type": "execute_result"
    }
   ],
   "source": [
    "# target과 나머지 features로 분류\n",
    "target = train_df['churned']\n",
    "features = train_df.drop(columns=['churned'], axis=1)\n",
    "features.shape"
   ]
  },
  {
   "cell_type": "code",
   "execution_count": 5,
   "metadata": {
    "colab": {
     "base_uri": "https://localhost:8080/"
    },
    "executionInfo": {
     "elapsed": 14,
     "status": "ok",
     "timestamp": 1756349755036,
     "user": {
      "displayName": "최준호",
      "userId": "06420941156344591338"
     },
     "user_tz": -540
    },
    "id": "dlQgGlJwUEtH",
    "outputId": "42ae2b7b-fa4b-40fc-ad9f-e370339493aa"
   },
   "outputs": [
    {
     "data": {
      "text/plain": [
       "(3500,)"
      ]
     },
     "execution_count": 5,
     "metadata": {},
     "output_type": "execute_result"
    }
   ],
   "source": [
    "target.shape"
   ]
  },
  {
   "cell_type": "markdown",
   "metadata": {
    "id": "VwwFnskKUsr-"
   },
   "source": [
    "# target의 0과 1개수 파악하기"
   ]
  },
  {
   "cell_type": "code",
   "execution_count": 6,
   "metadata": {
    "colab": {
     "base_uri": "https://localhost:8080/",
     "height": 178
    },
    "executionInfo": {
     "elapsed": 23,
     "status": "ok",
     "timestamp": 1756349755056,
     "user": {
      "displayName": "최준호",
      "userId": "06420941156344591338"
     },
     "user_tz": -540
    },
    "id": "RQi8z9W2UGSL",
    "outputId": "f45267c5-9d22-400c-f5bc-37ba73a947d7"
   },
   "outputs": [
    {
     "data": {
      "text/plain": [
       "churned\n",
       "1    1761\n",
       "0    1739\n",
       "Name: count, dtype: int64"
      ]
     },
     "execution_count": 6,
     "metadata": {},
     "output_type": "execute_result"
    }
   ],
   "source": [
    "# target 데이터의 0과 1의 개수 파악\n",
    "target.value_counts()"
   ]
  },
  {
   "cell_type": "markdown",
   "metadata": {
    "id": "0WT8HT5YVi4W"
   },
   "source": [
    "- churned데이터의 개수가 2500개와 큰 차이가 없음\n",
    "- 별도의 데이터 축소 작업은 하지 않음"
   ]
  },
  {
   "cell_type": "markdown",
   "metadata": {
    "id": "r7--pYyxWHqF"
   },
   "source": [
    "# train_test_split 진행\n",
    "- 앞으로의 random_state는 42로 설정\n",
    "- 성능에 따라 test_size는 조정가능"
   ]
  },
  {
   "cell_type": "code",
   "execution_count": 7,
   "metadata": {
    "colab": {
     "base_uri": "https://localhost:8080/"
    },
    "executionInfo": {
     "elapsed": 5151,
     "status": "ok",
     "timestamp": 1756349760207,
     "user": {
      "displayName": "최준호",
      "userId": "06420941156344591338"
     },
     "user_tz": -540
    },
    "id": "94UKcZByU4Zv",
    "outputId": "61dca188-4b87-4ac9-e80c-cde03f2742ed"
   },
   "outputs": [
    {
     "data": {
      "text/plain": [
       "((2800, 12), (700, 12), (2800,), (700,))"
      ]
     },
     "execution_count": 7,
     "metadata": {},
     "output_type": "execute_result"
    }
   ],
   "source": [
    "# target과 features에 대해서 train_test_split 진행\n",
    "from sklearn.model_selection import train_test_split\n",
    "X_train, X_test, y_train, y_test = train_test_split(features, target, test_size=0.2, random_state=42)\n",
    "X_train.shape, X_test.shape, y_train.shape, y_test.shape"
   ]
  },
  {
   "cell_type": "markdown",
   "metadata": {
    "id": "-39R-GeJWvdd"
   },
   "source": [
    "# train과 test데이터에 대한 결측치 확인"
   ]
  },
  {
   "cell_type": "code",
   "execution_count": 8,
   "metadata": {
    "colab": {
     "base_uri": "https://localhost:8080/"
    },
    "executionInfo": {
     "elapsed": 34,
     "status": "ok",
     "timestamp": 1756349760236,
     "user": {
      "displayName": "최준호",
      "userId": "06420941156344591338"
     },
     "user_tz": -540
    },
    "id": "-xeRZWT6WeOC",
    "outputId": "e1ce2287-ec5c-4009-fb15-17c37bfc151e"
   },
   "outputs": [
    {
     "name": "stdout",
     "output_type": "stream",
     "text": [
      "<class 'pandas.core.frame.DataFrame'>\n",
      "Index: 2800 entries, 162 to 3174\n",
      "Data columns (total 12 columns):\n",
      " #   Column                  Non-Null Count  Dtype  \n",
      "---  ------                  --------------  -----  \n",
      " 0   age                     2800 non-null   int64  \n",
      " 1   gender                  2800 non-null   object \n",
      " 2   subscription_type       2800 non-null   object \n",
      " 3   watch_hours             2800 non-null   float64\n",
      " 4   last_login_days         2800 non-null   int64  \n",
      " 5   region                  2800 non-null   object \n",
      " 6   device                  2800 non-null   object \n",
      " 7   monthly_fee             2800 non-null   float64\n",
      " 8   payment_method          2800 non-null   object \n",
      " 9   number_of_profiles      2800 non-null   int64  \n",
      " 10  avg_watch_time_per_day  2800 non-null   float64\n",
      " 11  favorite_genre          2800 non-null   object \n",
      "dtypes: float64(3), int64(3), object(6)\n",
      "memory usage: 284.4+ KB\n"
     ]
    }
   ],
   "source": [
    "# X_train 정보확인\n",
    "X_train.info()"
   ]
  },
  {
   "cell_type": "code",
   "execution_count": 9,
   "metadata": {
    "colab": {
     "base_uri": "https://localhost:8080/"
    },
    "executionInfo": {
     "elapsed": 144,
     "status": "ok",
     "timestamp": 1756349760381,
     "user": {
      "displayName": "최준호",
      "userId": "06420941156344591338"
     },
     "user_tz": -540
    },
    "id": "_WpY3ZPvW4CL",
    "outputId": "93012cdd-027e-428e-bef3-cc3e7fbd20a8"
   },
   "outputs": [
    {
     "name": "stdout",
     "output_type": "stream",
     "text": [
      "<class 'pandas.core.frame.DataFrame'>\n",
      "Index: 700 entries, 1650 to 2213\n",
      "Data columns (total 12 columns):\n",
      " #   Column                  Non-Null Count  Dtype  \n",
      "---  ------                  --------------  -----  \n",
      " 0   age                     700 non-null    int64  \n",
      " 1   gender                  700 non-null    object \n",
      " 2   subscription_type       700 non-null    object \n",
      " 3   watch_hours             700 non-null    float64\n",
      " 4   last_login_days         700 non-null    int64  \n",
      " 5   region                  700 non-null    object \n",
      " 6   device                  700 non-null    object \n",
      " 7   monthly_fee             700 non-null    float64\n",
      " 8   payment_method          700 non-null    object \n",
      " 9   number_of_profiles      700 non-null    int64  \n",
      " 10  avg_watch_time_per_day  700 non-null    float64\n",
      " 11  favorite_genre          700 non-null    object \n",
      "dtypes: float64(3), int64(3), object(6)\n",
      "memory usage: 71.1+ KB\n"
     ]
    }
   ],
   "source": [
    "# X_test 정보확인\n",
    "X_test.info()"
   ]
  },
  {
   "cell_type": "markdown",
   "metadata": {
    "id": "JQztaSniYqL-"
   },
   "source": [
    "# train, test 데이터셋 분석 결과\n",
    "- train, test 모두 결측치(null)없음\n",
    "- 수치형 데이터: age, watch_hours, last_login_days, monthly_fee, number_of_profiles, avg_watch_time_per_day\n",
    "- 문자형(카테고리) 데이터: gender, subscription_type, region, device, payment_method, favorite_genre"
   ]
  },
  {
   "cell_type": "markdown",
   "metadata": {
    "id": "kDgx1fKvZ541"
   },
   "source": [
    "# 각 column별 이탈(churned)과의 상관관계 분석"
   ]
  },
  {
   "cell_type": "markdown",
   "metadata": {
    "id": "RoGbWuzJaBeN"
   },
   "source": [
    "## 수치형 데이터: age, watch_hours, last_login_days, monthly_fee, number_of_profiles, avg_watch_time_per_day"
   ]
  },
  {
   "cell_type": "code",
   "execution_count": 10,
   "metadata": {
    "colab": {
     "base_uri": "https://localhost:8080/",
     "height": 706
    },
    "executionInfo": {
     "elapsed": 2927,
     "status": "ok",
     "timestamp": 1756349763209,
     "user": {
      "displayName": "최준호",
      "userId": "06420941156344591338"
     },
     "user_tz": -540
    },
    "id": "bzKVLPfDfHoN",
    "outputId": "abd12726-f87c-488b-935b-42f99cd68697"
   },
   "outputs": [
    {
     "data": {
      "image/png": "[encoded data removed]",
      "text/plain": [
       "<Figure size 800x600 with 2 Axes>"
      ]
     },
     "metadata": {},
     "output_type": "display_data"
    }
   ],
   "source": [
    "import matplotlib.pyplot as plt\n",
    "import seaborn as sns\n",
    "train_data = pd.concat([X_train, y_train], axis=1)\n",
    "# 수치형 데이터에 대한 heatmap 상관관계 분석\n",
    "numeric_cols = train_data.select_dtypes(include=['float64', 'int64'])\n",
    "\n",
    "# 상관관계 계산\n",
    "corr = numeric_cols.corr()\n",
    "\n",
    "# 히트맵 시각화\n",
    "plt.figure(figsize=(8, 6))\n",
    "sns.heatmap(corr, annot=True, cmap='coolwarm', fmt=\".2f\")\n",
    "plt.title('Correlation with churned')\n",
    "try:\n",
    "    plt.tight_layout()\n",
    "    plt.savefig(\"./images/feature-correlation\")\n",
    "    plt.show()\n",
    "except:\n",
    "    import os\n",
    "    os.mkdir(\"./images\")\n",
    "    plt.tight_layout()\n",
    "    plt.savefig(\"./images/feature-correlation\")\n",
    "    plt.show()"
   ]
  },
  {
   "cell_type": "markdown",
   "metadata": {
    "id": "sJZMJwuraNZ1"
   },
   "source": [
    "# 상관관계 분석결과\n",
    "- age는 상관관계가 거의 없으므로 featuring 대상에서 제외\n",
    "- watch_hours와 last_login_days의 상관관계가 높음\n",
    "- watch_hours와 last_login_days를 중심으로 age을 제외한 feature에 대해서 featuring 진행"
   ]
  },
  {
   "cell_type": "markdown",
   "metadata": {
    "id": "pc07DuB0igVF"
   },
   "source": [
    "# 문자열(카테고리) 분석\n",
    "- 문자형(카테고리) 데이터: gender, subscription_type, region, device, payment_method, favorite_genre"
   ]
  },
  {
   "cell_type": "markdown",
   "metadata": {
    "id": "vvFgZkDOj491"
   },
   "source": [
    "## gender"
   ]
  },
  {
   "cell_type": "code",
   "execution_count": 11,
   "metadata": {
    "colab": {
     "base_uri": "https://localhost:8080/",
     "height": 209
    },
    "executionInfo": {
     "elapsed": 5,
     "status": "ok",
     "timestamp": 1756349763216,
     "user": {
      "displayName": "최준호",
      "userId": "06420941156344591338"
     },
     "user_tz": -540
    },
    "id": "oZhH41bjhLo7",
    "outputId": "b6b67127-96b8-4f90-bb77-682f3d24d1e8"
   },
   "outputs": [
    {
     "data": {
      "text/plain": [
       "gender\n",
       "Female    956\n",
       "Male      929\n",
       "Other     915\n",
       "Name: count, dtype: int64"
      ]
     },
     "execution_count": 11,
     "metadata": {},
     "output_type": "execute_result"
    }
   ],
   "source": [
    "# gender\n",
    "train_data['gender'].value_counts()"
   ]
  },
  {
   "cell_type": "code",
   "execution_count": 12,
   "metadata": {
    "colab": {
     "base_uri": "https://localhost:8080/",
     "height": 303
    },
    "executionInfo": {
     "elapsed": 4,
     "status": "ok",
     "timestamp": 1756349763219,
     "user": {
      "displayName": "최준호",
      "userId": "06420941156344591338"
     },
     "user_tz": -540
    },
    "id": "MxcKG-SHi6To",
    "outputId": "686e2cf3-ecb4-4a84-9c2c-a42d08e21439"
   },
   "outputs": [
    {
     "data": {
      "text/plain": [
       "gender  churned\n",
       "Female  0          475\n",
       "        1          481\n",
       "Male    0          460\n",
       "        1          469\n",
       "Other   0          446\n",
       "        1          469\n",
       "Name: count, dtype: int64"
      ]
     },
     "execution_count": 12,
     "metadata": {},
     "output_type": "execute_result"
    }
   ],
   "source": [
    "# gender와 churned간에 상관관계\n",
    "train_data.groupby('gender')['churned'].value_counts(sort=False)"
   ]
  },
  {
   "cell_type": "code",
   "execution_count": 13,
   "metadata": {
    "colab": {
     "base_uri": "https://localhost:8080/",
     "height": 303
    },
    "executionInfo": {
     "elapsed": 4,
     "status": "ok",
     "timestamp": 1756349763224,
     "user": {
      "displayName": "최준호",
      "userId": "06420941156344591338"
     },
     "user_tz": -540
    },
    "id": "YFrjLVRmi_rR",
    "outputId": "7fd69bff-6cce-4a03-a402-957d58eefb38"
   },
   "outputs": [
    {
     "data": {
      "text/plain": [
       "gender  churned\n",
       "Female  0          0.496862\n",
       "        1          0.503138\n",
       "Male    0          0.495156\n",
       "        1          0.504844\n",
       "Other   0          0.487432\n",
       "        1          0.512568\n",
       "Name: proportion, dtype: float64"
      ]
     },
     "execution_count": 13,
     "metadata": {},
     "output_type": "execute_result"
    }
   ],
   "source": [
    "# 비율\n",
    "train_data.groupby('gender')['churned'].value_counts(normalize=True, sort=False)"
   ]
  },
  {
   "cell_type": "code",
   "execution_count": 14,
   "metadata": {
    "colab": {
     "base_uri": "https://localhost:8080/",
     "height": 531
    },
    "executionInfo": {
     "elapsed": 693,
     "status": "ok",
     "timestamp": 1756349763917,
     "user": {
      "displayName": "최준호",
      "userId": "06420941156344591338"
     },
     "user_tz": -540
    },
    "id": "PMDnTl16jwwW",
    "outputId": "9a62a84a-7a33-40f6-9001-b8d5cb7b4de3"
   },
   "outputs": [
    {
     "data": {
      "text/plain": [
       "<Axes: xlabel='gender,churned'>"
      ]
     },
     "execution_count": 14,
     "metadata": {},
     "output_type": "execute_result"
    },
    {
     "data": {
      "image/png": "[encoded data removed]",
      "text/plain": [
       "<Figure size 640x480 with 1 Axes>"
      ]
     },
     "metadata": {},
     "output_type": "display_data"
    }
   ],
   "source": [
    "# 비율에 대한 barplot\n",
    "gender_churned = train_data.groupby('gender')['churned'].value_counts(normalize=True, sort=False).plot(kind='bar')\n",
    "plt.tight_layout()\n",
    "plt.savefig(\"./images/gender_churned\")\n",
    "gender_churned"
   ]
  },
  {
   "cell_type": "markdown",
   "metadata": {
    "id": "kpkYy9dNjW93"
   },
   "source": [
    "- Male과 Other는 사실상 churned 차이가 없음\n",
    "- Female도 유의미한 차이 없음\n",
    "- gender에 대해서는 featuring 안하는 것이 바람직하다고 판단됨\n",
    "- 굳이 featuring하자면 Female 여부로 나누는 것이 최선임"
   ]
  },
  {
   "cell_type": "markdown",
   "metadata": {
    "id": "AK50l7z3j9PX"
   },
   "source": [
    "## subscription_type"
   ]
  },
  {
   "cell_type": "code",
   "execution_count": 15,
   "metadata": {
    "colab": {
     "base_uri": "https://localhost:8080/",
     "height": 209
    },
    "executionInfo": {
     "elapsed": 25,
     "status": "ok",
     "timestamp": 1756349763945,
     "user": {
      "displayName": "최준호",
      "userId": "06420941156344591338"
     },
     "user_tz": -540
    },
    "id": "EwDfRvcijG62",
    "outputId": "8ee0bfba-ab78-4819-fa4f-a600b6f4c304"
   },
   "outputs": [
    {
     "data": {
      "text/plain": [
       "subscription_type\n",
       "Premium     955\n",
       "Basic       944\n",
       "Standard    901\n",
       "Name: count, dtype: int64"
      ]
     },
     "execution_count": 15,
     "metadata": {},
     "output_type": "execute_result"
    }
   ],
   "source": [
    "# subscription_type\n",
    "train_data['subscription_type'].value_counts()"
   ]
  },
  {
   "cell_type": "code",
   "execution_count": 16,
   "metadata": {
    "colab": {
     "base_uri": "https://localhost:8080/",
     "height": 303
    },
    "executionInfo": {
     "elapsed": 26,
     "status": "ok",
     "timestamp": 1756349763973,
     "user": {
      "displayName": "최준호",
      "userId": "06420941156344591338"
     },
     "user_tz": -540
    },
    "id": "_2tdV1-EkD6S",
    "outputId": "45728846-7fd9-4c0c-a1b7-17476007c145"
   },
   "outputs": [
    {
     "data": {
      "text/plain": [
       "subscription_type  churned\n",
       "Basic              0          367\n",
       "                   1          577\n",
       "Premium            0          529\n",
       "                   1          426\n",
       "Standard           0          485\n",
       "                   1          416\n",
       "Name: count, dtype: int64"
      ]
     },
     "execution_count": 16,
     "metadata": {},
     "output_type": "execute_result"
    }
   ],
   "source": [
    "# churned 간의 상관관계\n",
    "train_data.groupby('subscription_type')['churned'].value_counts(sort=False)"
   ]
  },
  {
   "cell_type": "code",
   "execution_count": 17,
   "metadata": {
    "colab": {
     "base_uri": "https://localhost:8080/",
     "height": 303
    },
    "executionInfo": {
     "elapsed": 20,
     "status": "ok",
     "timestamp": 1756349763991,
     "user": {
      "displayName": "최준호",
      "userId": "06420941156344591338"
     },
     "user_tz": -540
    },
    "id": "JIqNMPSMkchI",
    "outputId": "007db5b9-89ec-4ebd-bd88-2692d8d92b73"
   },
   "outputs": [
    {
     "data": {
      "text/plain": [
       "subscription_type  churned\n",
       "Basic              0          0.388771\n",
       "                   1          0.611229\n",
       "Premium            0          0.553927\n",
       "                   1          0.446073\n",
       "Standard           0          0.538291\n",
       "                   1          0.461709\n",
       "Name: proportion, dtype: float64"
      ]
     },
     "execution_count": 17,
     "metadata": {},
     "output_type": "execute_result"
    }
   ],
   "source": [
    "# 비율\n",
    "train_data.groupby('subscription_type')['churned'].value_counts(normalize=True, sort=False)"
   ]
  },
  {
   "cell_type": "code",
   "execution_count": 35,
   "metadata": {
    "colab": {
     "base_uri": "https://localhost:8080/",
     "height": 545
    },
    "executionInfo": {
     "elapsed": 408,
     "status": "ok",
     "timestamp": 1756349764400,
     "user": {
      "displayName": "최준호",
      "userId": "06420941156344591338"
     },
     "user_tz": -540
    },
    "id": "W1wYqYF1kg3I",
    "outputId": "4c76d88c-6fd3-4e91-ff33-5b798807b35d"
   },
   "outputs": [
    {
     "data": {
      "text/plain": [
       "<Axes: xlabel='subscription_type,churned'>"
      ]
     },
     "execution_count": 35,
     "metadata": {},
     "output_type": "execute_result"
    },
    {
     "data": {
      "image/png": "[encoded data removed]",
      "text/plain": [
       "<Figure size 640x480 with 1 Axes>"
      ]
     },
     "metadata": {},
     "output_type": "display_data"
    }
   ],
   "source": [
    "# barplot\n",
    "subscription_churned = train_data.groupby('subscription_type')['churned'].value_counts(normalize=True, sort=False).plot(kind='bar')\n",
    "plt.tight_layout()\n",
    "plt.savefig(\"./images/subscription_churned\")\n",
    "subscription_churned"
   ]
  },
  {
   "cell_type": "markdown",
   "metadata": {
    "id": "dRfJPhiJkp6l"
   },
   "source": [
    "- Basic일수록 이탈확률(churned:1)이 큼\n",
    "- Basic이 아니면, 이탈하지 않을 가능성이 높음\n",
    "- Basic여부에 대한 featuring이 권장됨"
   ]
  },
  {
   "cell_type": "markdown",
   "metadata": {
    "id": "jJdmFTjDnd1l"
   },
   "source": [
    "## region"
   ]
  },
  {
   "cell_type": "code",
   "execution_count": 19,
   "metadata": {
    "colab": {
     "base_uri": "https://localhost:8080/",
     "height": 303
    },
    "executionInfo": {
     "elapsed": 27,
     "status": "ok",
     "timestamp": 1756349992796,
     "user": {
      "displayName": "최준호",
      "userId": "06420941156344591338"
     },
     "user_tz": -540
    },
    "id": "w_RgP1IVkkV8",
    "outputId": "7c487c89-c62c-43d3-bc14-aaf27794f80d"
   },
   "outputs": [
    {
     "data": {
      "text/plain": [
       "region\n",
       "South America    496\n",
       "Asia             485\n",
       "North America    479\n",
       "Europe           478\n",
       "Africa           440\n",
       "Oceania          422\n",
       "Name: count, dtype: int64"
      ]
     },
     "execution_count": 19,
     "metadata": {},
     "output_type": "execute_result"
    }
   ],
   "source": [
    "# region\n",
    "train_data['region'].value_counts()"
   ]
  },
  {
   "cell_type": "code",
   "execution_count": 20,
   "metadata": {
    "colab": {
     "base_uri": "https://localhost:8080/",
     "height": 491
    },
    "executionInfo": {
     "elapsed": 38,
     "status": "ok",
     "timestamp": 1756350060391,
     "user": {
      "displayName": "최준호",
      "userId": "06420941156344591338"
     },
     "user_tz": -540
    },
    "id": "ReYlA24Kng52",
    "outputId": "b9154cc1-916b-4ec9-f7f7-660ee1b0803f"
   },
   "outputs": [
    {
     "data": {
      "text/plain": [
       "region         churned\n",
       "Africa         0          227\n",
       "               1          213\n",
       "Asia           0          231\n",
       "               1          254\n",
       "Europe         0          220\n",
       "               1          258\n",
       "North America  0          250\n",
       "               1          229\n",
       "Oceania        0          208\n",
       "               1          214\n",
       "South America  0          245\n",
       "               1          251\n",
       "Name: count, dtype: int64"
      ]
     },
     "execution_count": 20,
     "metadata": {},
     "output_type": "execute_result"
    }
   ],
   "source": [
    "# churned 간의 상관관계\n",
    "train_data.groupby('region')['churned'].value_counts(sort=False)"
   ]
  },
  {
   "cell_type": "code",
   "execution_count": 21,
   "metadata": {
    "colab": {
     "base_uri": "https://localhost:8080/",
     "height": 491
    },
    "executionInfo": {
     "elapsed": 39,
     "status": "ok",
     "timestamp": 1756350069403,
     "user": {
      "displayName": "최준호",
      "userId": "06420941156344591338"
     },
     "user_tz": -540
    },
    "id": "kFj-TKB9nxZ0",
    "outputId": "4e785a49-d9c6-4957-f3c5-159e25cb2402"
   },
   "outputs": [
    {
     "data": {
      "text/plain": [
       "region         churned\n",
       "Africa         0          0.515909\n",
       "               1          0.484091\n",
       "Asia           0          0.476289\n",
       "               1          0.523711\n",
       "Europe         0          0.460251\n",
       "               1          0.539749\n",
       "North America  0          0.521921\n",
       "               1          0.478079\n",
       "Oceania        0          0.492891\n",
       "               1          0.507109\n",
       "South America  0          0.493952\n",
       "               1          0.506048\n",
       "Name: proportion, dtype: float64"
      ]
     },
     "execution_count": 21,
     "metadata": {},
     "output_type": "execute_result"
    }
   ],
   "source": [
    "# 비율\n",
    "train_data.groupby('region')['churned'].value_counts(normalize=True, sort=False)"
   ]
  },
  {
   "cell_type": "code",
   "execution_count": 36,
   "metadata": {
    "colab": {
     "base_uri": "https://localhost:8080/",
     "height": 583
    },
    "executionInfo": {
     "elapsed": 216,
     "status": "ok",
     "timestamp": 1756350080551,
     "user": {
      "displayName": "최준호",
      "userId": "06420941156344591338"
     },
     "user_tz": -540
    },
    "id": "OhpN1y6Xnzmo",
    "outputId": "91a85c3a-a9f4-4296-b21d-4da8f9ba7619"
   },
   "outputs": [
    {
     "data": {
      "text/plain": [
       "<Axes: xlabel='region,churned'>"
      ]
     },
     "execution_count": 36,
     "metadata": {},
     "output_type": "execute_result"
    },
    {
     "data": {
      "image/png": "[encoded data removed]",
      "text/plain": [
       "<Figure size 640x480 with 1 Axes>"
      ]
     },
     "metadata": {},
     "output_type": "display_data"
    }
   ],
   "source": [
    "# bar plot\n",
    "region_churned = train_data.groupby('region')['churned'].value_counts(normalize=True, sort=False).plot(kind='bar')\n",
    "plt.tight_layout()\n",
    "plt.savefig(\"./images/region_churned\")\n",
    "region_churned"
   ]
  },
  {
   "cell_type": "markdown",
   "metadata": {
    "id": "xqCMffPPoY5N"
   },
   "source": [
    "- Africa의 이탈률이 상대적으로 적음\n",
    "- 이외 지역에서는 비슷하거나, 이탈률이 약간 많음\n",
    "- 모든 카테고리에 대한 상관관계가 낮음\n",
    "- 굳이 featuring을 한다면 Africa의 여부에 대한 featuring 진행"
   ]
  },
  {
   "cell_type": "markdown",
   "metadata": {
    "id": "VfWqxL8Ao-n1"
   },
   "source": [
    "## device"
   ]
  },
  {
   "cell_type": "code",
   "execution_count": 23,
   "metadata": {
    "colab": {
     "base_uri": "https://localhost:8080/",
     "height": 272
    },
    "executionInfo": {
     "elapsed": 27,
     "status": "ok",
     "timestamp": 1756350420558,
     "user": {
      "displayName": "최준호",
      "userId": "06420941156344591338"
     },
     "user_tz": -540
    },
    "id": "HXdg68pin2R2",
    "outputId": "0fb44489-f144-42a1-a6e1-fbdbf9fd1867"
   },
   "outputs": [
    {
     "data": {
      "text/plain": [
       "device\n",
       "Tablet     609\n",
       "Mobile     589\n",
       "Laptop     554\n",
       "TV         546\n",
       "Desktop    502\n",
       "Name: count, dtype: int64"
      ]
     },
     "execution_count": 23,
     "metadata": {},
     "output_type": "execute_result"
    }
   ],
   "source": [
    "# device\n",
    "train_data['device'].value_counts()"
   ]
  },
  {
   "cell_type": "code",
   "execution_count": 24,
   "metadata": {
    "colab": {
     "base_uri": "https://localhost:8080/",
     "height": 429
    },
    "executionInfo": {
     "elapsed": 43,
     "status": "ok",
     "timestamp": 1756350448603,
     "user": {
      "displayName": "최준호",
      "userId": "06420941156344591338"
     },
     "user_tz": -540
    },
    "id": "IMphFPuqpJVc",
    "outputId": "e2ee7ca7-cf5d-49ff-f621-e994e213ee09"
   },
   "outputs": [
    {
     "data": {
      "text/plain": [
       "device   churned\n",
       "Desktop  0          254\n",
       "         1          248\n",
       "Laptop   0          256\n",
       "         1          298\n",
       "Mobile   0          289\n",
       "         1          300\n",
       "TV       0          270\n",
       "         1          276\n",
       "Tablet   0          312\n",
       "         1          297\n",
       "Name: count, dtype: int64"
      ]
     },
     "execution_count": 24,
     "metadata": {},
     "output_type": "execute_result"
    }
   ],
   "source": [
    "# churned 간의 상관관계\n",
    "train_data.groupby('device')['churned'].value_counts(sort=False)"
   ]
  },
  {
   "cell_type": "code",
   "execution_count": 25,
   "metadata": {
    "colab": {
     "base_uri": "https://localhost:8080/",
     "height": 429
    },
    "executionInfo": {
     "elapsed": 19,
     "status": "ok",
     "timestamp": 1756350479294,
     "user": {
      "displayName": "최준호",
      "userId": "06420941156344591338"
     },
     "user_tz": -540
    },
    "id": "G4DAofoEpQLA",
    "outputId": "61b86869-216e-445f-83a3-187bc6694e6f"
   },
   "outputs": [
    {
     "data": {
      "text/plain": [
       "device   churned\n",
       "Desktop  0          0.505976\n",
       "         1          0.494024\n",
       "Laptop   0          0.462094\n",
       "         1          0.537906\n",
       "Mobile   0          0.490662\n",
       "         1          0.509338\n",
       "TV       0          0.494505\n",
       "         1          0.505495\n",
       "Tablet   0          0.512315\n",
       "         1          0.487685\n",
       "Name: proportion, dtype: float64"
      ]
     },
     "execution_count": 25,
     "metadata": {},
     "output_type": "execute_result"
    }
   ],
   "source": [
    "# 비율\n",
    "train_data.groupby('device')['churned'].value_counts(normalize=True, sort=False)"
   ]
  },
  {
   "cell_type": "code",
   "execution_count": 37,
   "metadata": {
    "colab": {
     "base_uri": "https://localhost:8080/",
     "height": 538
    },
    "executionInfo": {
     "elapsed": 282,
     "status": "ok",
     "timestamp": 1756350490117,
     "user": {
      "displayName": "최준호",
      "userId": "06420941156344591338"
     },
     "user_tz": -540
    },
    "id": "guTrFO6ZpXrk",
    "outputId": "4b2c2acf-28f9-4c08-b8d3-22772339b8e6"
   },
   "outputs": [
    {
     "data": {
      "text/plain": [
       "<Axes: xlabel='device,churned'>"
      ]
     },
     "execution_count": 37,
     "metadata": {},
     "output_type": "execute_result"
    },
    {
     "data": {
      "image/png": "[encoded data removed]",
      "text/plain": [
       "<Figure size 640x480 with 1 Axes>"
      ]
     },
     "metadata": {},
     "output_type": "display_data"
    }
   ],
   "source": [
    "# barplot\n",
    "device_churned = train_data.groupby('device')['churned'].value_counts(normalize=True, sort=False).plot(kind='bar')\n",
    "plt.tight_layout()\n",
    "plt.savefig(\"./images/device_churned\")\n",
    "device_churned"
   ]
  },
  {
   "cell_type": "markdown",
   "metadata": {
    "id": "Bp6C8GWLq15V"
   },
   "source": [
    "- 모든 value에 대한 상관관계가 낮거나 없음\n",
    "- 5가지의 value를 모두 반영해서 encoding하는 방식으로 활용가능"
   ]
  },
  {
   "cell_type": "markdown",
   "metadata": {
    "id": "aroeorkNqdZe"
   },
   "source": [
    "##  payment_method"
   ]
  },
  {
   "cell_type": "code",
   "execution_count": 27,
   "metadata": {
    "colab": {
     "base_uri": "https://localhost:8080/",
     "height": 272
    },
    "executionInfo": {
     "elapsed": 43,
     "status": "ok",
     "timestamp": 1756350776806,
     "user": {
      "displayName": "최준호",
      "userId": "06420941156344591338"
     },
     "user_tz": -540
    },
    "id": "p4cw6AT5paQR",
    "outputId": "c0352728-d290-4dea-9deb-0c27e1d28d8d"
   },
   "outputs": [
    {
     "data": {
      "text/plain": [
       "payment_method\n",
       "PayPal         585\n",
       "Gift Card      562\n",
       "Debit Card     552\n",
       "Credit Card    551\n",
       "Crypto         550\n",
       "Name: count, dtype: int64"
      ]
     },
     "execution_count": 27,
     "metadata": {},
     "output_type": "execute_result"
    }
   ],
   "source": [
    "# payment_method\n",
    "train_data['payment_method'].value_counts()"
   ]
  },
  {
   "cell_type": "code",
   "execution_count": 28,
   "metadata": {
    "colab": {
     "base_uri": "https://localhost:8080/",
     "height": 429
    },
    "executionInfo": {
     "elapsed": 56,
     "status": "ok",
     "timestamp": 1756350815586,
     "user": {
      "displayName": "최준호",
      "userId": "06420941156344591338"
     },
     "user_tz": -540
    },
    "id": "sfJXaTFgqgTU",
    "outputId": "c0356b83-65f8-4aed-83e6-151a95d13271"
   },
   "outputs": [
    {
     "data": {
      "text/plain": [
       "payment_method  churned\n",
       "Credit Card     0          308\n",
       "                1          243\n",
       "Crypto          0          224\n",
       "                1          326\n",
       "Debit Card      0          310\n",
       "                1          242\n",
       "Gift Card       0          235\n",
       "                1          327\n",
       "PayPal          0          304\n",
       "                1          281\n",
       "Name: count, dtype: int64"
      ]
     },
     "execution_count": 28,
     "metadata": {},
     "output_type": "execute_result"
    }
   ],
   "source": [
    "# churned 간의 상관관계\n",
    "train_data.groupby('payment_method')['churned'].value_counts(sort=False)"
   ]
  },
  {
   "cell_type": "code",
   "execution_count": 29,
   "metadata": {
    "colab": {
     "base_uri": "https://localhost:8080/",
     "height": 429
    },
    "executionInfo": {
     "elapsed": 39,
     "status": "ok",
     "timestamp": 1756350824907,
     "user": {
      "displayName": "최준호",
      "userId": "06420941156344591338"
     },
     "user_tz": -540
    },
    "id": "VVVyjeWbqpxK",
    "outputId": "90660452-06da-4a97-e5b5-2cf8f9154343"
   },
   "outputs": [
    {
     "data": {
      "text/plain": [
       "payment_method  churned\n",
       "Credit Card     0          0.558984\n",
       "                1          0.441016\n",
       "Crypto          0          0.407273\n",
       "                1          0.592727\n",
       "Debit Card      0          0.561594\n",
       "                1          0.438406\n",
       "Gift Card       0          0.418149\n",
       "                1          0.581851\n",
       "PayPal          0          0.519658\n",
       "                1          0.480342\n",
       "Name: proportion, dtype: float64"
      ]
     },
     "execution_count": 29,
     "metadata": {},
     "output_type": "execute_result"
    }
   ],
   "source": [
    "# 비율\n",
    "train_data.groupby('payment_method')['churned'].value_counts(normalize=True, sort=False)"
   ]
  },
  {
   "cell_type": "code",
   "execution_count": 38,
   "metadata": {
    "colab": {
     "base_uri": "https://localhost:8080/",
     "height": 560
    },
    "executionInfo": {
     "elapsed": 391,
     "status": "ok",
     "timestamp": 1756350836258,
     "user": {
      "displayName": "최준호",
      "userId": "06420941156344591338"
     },
     "user_tz": -540
    },
    "id": "4mTaG4B5qsCv",
    "outputId": "5317f7de-f3dd-41dc-b616-35727777d370"
   },
   "outputs": [
    {
     "data": {
      "text/plain": [
       "<Axes: xlabel='payment_method,churned'>"
      ]
     },
     "execution_count": 38,
     "metadata": {},
     "output_type": "execute_result"
    },
    {
     "data": {
      "image/png": "[encoded data removed]",
      "text/plain": [
       "<Figure size 640x480 with 1 Axes>"
      ]
     },
     "metadata": {},
     "output_type": "display_data"
    }
   ],
   "source": [
    "# bar plot\n",
    "payment_churned = train_data.groupby('payment_method')['churned'].value_counts(normalize=True, sort=False).plot(kind='bar')\n",
    "plt.tight_layout()\n",
    "plt.savefig(\"./images/payment_churned\")\n",
    "payment_churned"
   ]
  },
  {
   "cell_type": "markdown",
   "metadata": {
    "id": "C59FeBYYrU29"
   },
   "source": [
    "- 이탈(churned) 유력: Crypto, Gift Card\n",
    "- 잔류(not churned) 유력: Credit Card, Debit Card, Paypal"
   ]
  },
  {
   "cell_type": "markdown",
   "metadata": {
    "id": "rFyQ6ECTrzY1"
   },
   "source": [
    "## favorite_genre"
   ]
  },
  {
   "cell_type": "code",
   "execution_count": 31,
   "metadata": {
    "colab": {
     "base_uri": "https://localhost:8080/",
     "height": 335
    },
    "executionInfo": {
     "elapsed": 50,
     "status": "ok",
     "timestamp": 1756351125383,
     "user": {
      "displayName": "최준호",
      "userId": "06420941156344591338"
     },
     "user_tz": -540
    },
    "id": "1-v2uTrmquvA",
    "outputId": "fee8b465-bc85-4444-e405-142df7b34195"
   },
   "outputs": [
    {
     "data": {
      "text/plain": [
       "favorite_genre\n",
       "Drama          422\n",
       "Comedy         413\n",
       "Sci-Fi         403\n",
       "Romance        401\n",
       "Horror         401\n",
       "Action         386\n",
       "Documentary    374\n",
       "Name: count, dtype: int64"
      ]
     },
     "execution_count": 31,
     "metadata": {},
     "output_type": "execute_result"
    }
   ],
   "source": [
    "# favorite_genre\n",
    "train_data['favorite_genre'].value_counts()"
   ]
  },
  {
   "cell_type": "code",
   "execution_count": 32,
   "metadata": {
    "colab": {
     "base_uri": "https://localhost:8080/",
     "height": 554
    },
    "executionInfo": {
     "elapsed": 27,
     "status": "ok",
     "timestamp": 1756351156675,
     "user": {
      "displayName": "최준호",
      "userId": "06420941156344591338"
     },
     "user_tz": -540
    },
    "id": "u_7dZGJtr1Z2",
    "outputId": "f0d9c05c-e06c-417c-a012-94c4d65e8690"
   },
   "outputs": [
    {
     "data": {
      "text/plain": [
       "favorite_genre  churned\n",
       "Action          0          179\n",
       "                1          207\n",
       "Comedy          0          215\n",
       "                1          198\n",
       "Documentary     0          183\n",
       "                1          191\n",
       "Drama           0          206\n",
       "                1          216\n",
       "Horror          0          184\n",
       "                1          217\n",
       "Romance         0          208\n",
       "                1          193\n",
       "Sci-Fi          0          206\n",
       "                1          197\n",
       "Name: count, dtype: int64"
      ]
     },
     "execution_count": 32,
     "metadata": {},
     "output_type": "execute_result"
    }
   ],
   "source": [
    "# chruned\n",
    "train_data.groupby('favorite_genre')['churned'].value_counts(sort=False)"
   ]
  },
  {
   "cell_type": "code",
   "execution_count": 33,
   "metadata": {
    "colab": {
     "base_uri": "https://localhost:8080/",
     "height": 554
    },
    "executionInfo": {
     "elapsed": 48,
     "status": "ok",
     "timestamp": 1756351163116,
     "user": {
      "displayName": "최준호",
      "userId": "06420941156344591338"
     },
     "user_tz": -540
    },
    "id": "Vmv4ManTr9DF",
    "outputId": "4eb231f7-d7a5-4854-d59e-7c17778f12e9"
   },
   "outputs": [
    {
     "data": {
      "text/plain": [
       "favorite_genre  churned\n",
       "Action          0          0.463731\n",
       "                1          0.536269\n",
       "Comedy          0          0.520581\n",
       "                1          0.479419\n",
       "Documentary     0          0.489305\n",
       "                1          0.510695\n",
       "Drama           0          0.488152\n",
       "                1          0.511848\n",
       "Horror          0          0.458853\n",
       "                1          0.541147\n",
       "Romance         0          0.518703\n",
       "                1          0.481297\n",
       "Sci-Fi          0          0.511166\n",
       "                1          0.488834\n",
       "Name: proportion, dtype: float64"
      ]
     },
     "execution_count": 33,
     "metadata": {},
     "output_type": "execute_result"
    }
   ],
   "source": [
    "# 비율\n",
    "train_data.groupby('favorite_genre')['churned'].value_counts(normalize=True, sort=False)"
   ]
  },
  {
   "cell_type": "code",
   "execution_count": 39,
   "metadata": {
    "colab": {
     "base_uri": "https://localhost:8080/",
     "height": 576
    },
    "executionInfo": {
     "elapsed": 239,
     "status": "ok",
     "timestamp": 1756351172303,
     "user": {
      "displayName": "최준호",
      "userId": "06420941156344591338"
     },
     "user_tz": -540
    },
    "id": "lsmplexjr-nJ",
    "outputId": "65aa8618-2eae-48d1-e846-0d28abda5c22"
   },
   "outputs": [
    {
     "data": {
      "text/plain": [
       "<Axes: xlabel='gender,churned'>"
      ]
     },
     "execution_count": 39,
     "metadata": {},
     "output_type": "execute_result"
    },
    {
     "data": {
      "image/png": "[encoded data removed]",
      "text/plain": [
       "<Figure size 640x480 with 1 Axes>"
      ]
     },
     "metadata": {},
     "output_type": "display_data"
    }
   ],
   "source": [
    "# bar plot\n",
    "genre_churned = train_data.groupby('favorite_genre')['churned'].value_counts(normalize=True, sort=False).plot(kind='bar')\n",
    "plt.tight_layout()\n",
    "plt.savefig(\"./images/genre_churned\")\n",
    "gender_churned"
   ]
  },
  {
   "cell_type": "markdown",
   "metadata": {
    "id": "_368mHK1sd5G"
   },
   "source": [
    "- 이탈 확률이 높음: Drama, Action\n",
    "- 이탈 확률이 낮음: Sci-Fi, Romance, Comedy\n",
    "- 상관관계 없음: Documentary, Horror\n",
    "- 각 value를 위의 3가지 category로 나눠서 featuring 고려 가능"
   ]
  },
  {
   "cell_type": "code",
   "execution_count": null,
   "metadata": {
    "id": "movAwFAnsAzz"
   },
   "outputs": [],
   "source": []
  }
 ],
 "metadata": {
  "colab": {
   "authorship_tag": "ABX9TyN9wLlYo4z9UQUJ7EWqCKmh",
   "provenance": [],
   "toc_visible": true
  },
  "kernelspec": {
   "display_name": ".venv",
   "language": "python",
   "name": "python3"
  },
  "language_info": {
   "codemirror_mode": {
    "name": "ipython",
    "version": 3
   },
   "file_extension": ".py",
   "mimetype": "text/x-python",
   "name": "python",
   "nbconvert_exporter": "python",
   "pygments_lexer": "ipython3",
   "version": "3.13.5"
  }
 },
 "nbformat": 4,
 "nbformat_minor": 0
}
