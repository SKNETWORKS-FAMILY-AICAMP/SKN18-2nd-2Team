{
 "cells": [
  {
   "cell_type": "markdown",
   "id": "8898fe5f",
   "metadata": {},
   "source": [
    "# 데이터셋 불러오기"
   ]
  },
  {
   "cell_type": "code",
   "execution_count": 1,
   "id": "1a24158e",
   "metadata": {},
   "outputs": [],
   "source": [
    "# train/test파일 읽기\n",
    "import pandas as pd\n",
    "import matplotlib.pyplot as plt\n",
    "import seaborn as sns\n",
    "\n",
    "train_df = pd.read_csv(\"./data/train.csv\")\n",
    "test_df = pd.read_csv(\"./data/test.csv\")"
   ]
  },
  {
   "cell_type": "code",
   "execution_count": 2,
   "id": "8c1b0785",
   "metadata": {},
   "outputs": [
    {
     "data": {
      "text/html": [
       "<div>\n",
       "<style scoped>\n",
       "    .dataframe tbody tr th:only-of-type {\n",
       "        vertical-align: middle;\n",
       "    }\n",
       "\n",
       "    .dataframe tbody tr th {\n",
       "        vertical-align: top;\n",
       "    }\n",
       "\n",
       "    .dataframe thead th {\n",
       "        text-align: right;\n",
       "    }\n",
       "</style>\n",
       "<table border=\"1\" class=\"dataframe\">\n",
       "  <thead>\n",
       "    <tr style=\"text-align: right;\">\n",
       "      <th></th>\n",
       "      <th>customer_id</th>\n",
       "      <th>age</th>\n",
       "      <th>gender</th>\n",
       "      <th>subscription_type</th>\n",
       "      <th>watch_hours</th>\n",
       "      <th>last_login_days</th>\n",
       "      <th>region</th>\n",
       "      <th>device</th>\n",
       "      <th>monthly_fee</th>\n",
       "      <th>payment_method</th>\n",
       "      <th>number_of_profiles</th>\n",
       "      <th>avg_watch_time_per_day</th>\n",
       "      <th>favorite_genre</th>\n",
       "      <th>churned</th>\n",
       "    </tr>\n",
       "  </thead>\n",
       "  <tbody>\n",
       "    <tr>\n",
       "      <th>0</th>\n",
       "      <td>5b9fc53d-960a-475a-b189-b54d9c7564a6</td>\n",
       "      <td>35</td>\n",
       "      <td>Female</td>\n",
       "      <td>Premium</td>\n",
       "      <td>8.44</td>\n",
       "      <td>47</td>\n",
       "      <td>Asia</td>\n",
       "      <td>Laptop</td>\n",
       "      <td>17.99</td>\n",
       "      <td>Crypto</td>\n",
       "      <td>4</td>\n",
       "      <td>0.18</td>\n",
       "      <td>Sci-Fi</td>\n",
       "      <td>1</td>\n",
       "    </tr>\n",
       "    <tr>\n",
       "      <th>1</th>\n",
       "      <td>44c431b4-0f1a-4403-b701-98ab0f23f260</td>\n",
       "      <td>70</td>\n",
       "      <td>Other</td>\n",
       "      <td>Standard</td>\n",
       "      <td>4.75</td>\n",
       "      <td>54</td>\n",
       "      <td>Europe</td>\n",
       "      <td>Mobile</td>\n",
       "      <td>13.99</td>\n",
       "      <td>Gift Card</td>\n",
       "      <td>3</td>\n",
       "      <td>0.09</td>\n",
       "      <td>Romance</td>\n",
       "      <td>1</td>\n",
       "    </tr>\n",
       "    <tr>\n",
       "      <th>2</th>\n",
       "      <td>5bdfbdcf-ab7b-41da-b1d5-51f819eb66dc</td>\n",
       "      <td>52</td>\n",
       "      <td>Female</td>\n",
       "      <td>Basic</td>\n",
       "      <td>22.21</td>\n",
       "      <td>54</td>\n",
       "      <td>Oceania</td>\n",
       "      <td>TV</td>\n",
       "      <td>8.99</td>\n",
       "      <td>Credit Card</td>\n",
       "      <td>1</td>\n",
       "      <td>0.40</td>\n",
       "      <td>Romance</td>\n",
       "      <td>1</td>\n",
       "    </tr>\n",
       "    <tr>\n",
       "      <th>3</th>\n",
       "      <td>a6439c47-77e6-4c51-b834-0f66b0f1a239</td>\n",
       "      <td>48</td>\n",
       "      <td>Female</td>\n",
       "      <td>Premium</td>\n",
       "      <td>9.65</td>\n",
       "      <td>60</td>\n",
       "      <td>Oceania</td>\n",
       "      <td>Laptop</td>\n",
       "      <td>17.99</td>\n",
       "      <td>Gift Card</td>\n",
       "      <td>4</td>\n",
       "      <td>0.16</td>\n",
       "      <td>Drama</td>\n",
       "      <td>1</td>\n",
       "    </tr>\n",
       "    <tr>\n",
       "      <th>4</th>\n",
       "      <td>9ab55bb5-1957-46a6-8472-d26b2fda624a</td>\n",
       "      <td>47</td>\n",
       "      <td>Other</td>\n",
       "      <td>Basic</td>\n",
       "      <td>13.22</td>\n",
       "      <td>8</td>\n",
       "      <td>North America</td>\n",
       "      <td>Mobile</td>\n",
       "      <td>8.99</td>\n",
       "      <td>Crypto</td>\n",
       "      <td>4</td>\n",
       "      <td>1.47</td>\n",
       "      <td>Action</td>\n",
       "      <td>0</td>\n",
       "    </tr>\n",
       "  </tbody>\n",
       "</table>\n",
       "</div>"
      ],
      "text/plain": [
       "                            customer_id  age  gender subscription_type  \\\n",
       "0  5b9fc53d-960a-475a-b189-b54d9c7564a6   35  Female           Premium   \n",
       "1  44c431b4-0f1a-4403-b701-98ab0f23f260   70   Other          Standard   \n",
       "2  5bdfbdcf-ab7b-41da-b1d5-51f819eb66dc   52  Female             Basic   \n",
       "3  a6439c47-77e6-4c51-b834-0f66b0f1a239   48  Female           Premium   \n",
       "4  9ab55bb5-1957-46a6-8472-d26b2fda624a   47   Other             Basic   \n",
       "\n",
       "   watch_hours  last_login_days         region  device  monthly_fee  \\\n",
       "0         8.44               47           Asia  Laptop        17.99   \n",
       "1         4.75               54         Europe  Mobile        13.99   \n",
       "2        22.21               54        Oceania      TV         8.99   \n",
       "3         9.65               60        Oceania  Laptop        17.99   \n",
       "4        13.22                8  North America  Mobile         8.99   \n",
       "\n",
       "  payment_method  number_of_profiles  avg_watch_time_per_day favorite_genre  \\\n",
       "0         Crypto                   4                    0.18         Sci-Fi   \n",
       "1      Gift Card                   3                    0.09        Romance   \n",
       "2    Credit Card                   1                    0.40        Romance   \n",
       "3      Gift Card                   4                    0.16          Drama   \n",
       "4         Crypto                   4                    1.47         Action   \n",
       "\n",
       "   churned  \n",
       "0        1  \n",
       "1        1  \n",
       "2        1  \n",
       "3        1  \n",
       "4        0  "
      ]
     },
     "execution_count": 2,
     "metadata": {},
     "output_type": "execute_result"
    }
   ],
   "source": [
    "# csv 파일 읽기\n",
    "train_df.head()"
   ]
  },
  {
   "cell_type": "code",
   "execution_count": 3,
   "id": "8663083c",
   "metadata": {},
   "outputs": [
    {
     "name": "stdout",
     "output_type": "stream",
     "text": [
      "<class 'pandas.core.frame.DataFrame'>\n",
      "RangeIndex: 3500 entries, 0 to 3499\n",
      "Data columns (total 14 columns):\n",
      " #   Column                  Non-Null Count  Dtype  \n",
      "---  ------                  --------------  -----  \n",
      " 0   customer_id             3500 non-null   object \n",
      " 1   age                     3500 non-null   int64  \n",
      " 2   gender                  3500 non-null   object \n",
      " 3   subscription_type       3500 non-null   object \n",
      " 4   watch_hours             3500 non-null   float64\n",
      " 5   last_login_days         3500 non-null   int64  \n",
      " 6   region                  3500 non-null   object \n",
      " 7   device                  3500 non-null   object \n",
      " 8   monthly_fee             3500 non-null   float64\n",
      " 9   payment_method          3500 non-null   object \n",
      " 10  number_of_profiles      3500 non-null   int64  \n",
      " 11  avg_watch_time_per_day  3500 non-null   float64\n",
      " 12  favorite_genre          3500 non-null   object \n",
      " 13  churned                 3500 non-null   int64  \n",
      "dtypes: float64(3), int64(4), object(7)\n",
      "memory usage: 382.9+ KB\n"
     ]
    }
   ],
   "source": [
    "# 테이블셋 정보 출력\n",
    "train_df.info()"
   ]
  },
  {
   "cell_type": "markdown",
   "id": "d6ebd5d3",
   "metadata": {},
   "source": [
    "# Object column별 last_login_days 분석\n",
    "- 대상 Object column: subscription_type, region, payment_method, favorite_genre\n",
    "- 대상 수치형 column: last_login_days"
   ]
  },
  {
   "cell_type": "markdown",
   "id": "ac81c1c9",
   "metadata": {},
   "source": [
    "## subscription_type"
   ]
  },
  {
   "cell_type": "code",
   "execution_count": 4,
   "id": "0b6e66a2",
   "metadata": {},
   "outputs": [
    {
     "data": {
      "image/png": "[encoded data removed]",
      "text/plain": [
       "<Figure size 1000x600 with 1 Axes>"
      ]
     },
     "metadata": {},
     "output_type": "display_data"
    }
   ],
   "source": [
    "# subscription_type(구독 유형)별 last_login_days(마지막 접속 경과일)에 대한 막대 그래프\n",
    "\n",
    "try:\n",
    "    plt.figure(figsize=(10, 6))\n",
    "    sns.barplot(x='subscription_type', y='last_login_days', data=train_df)\n",
    "    plt.tight_layout()\n",
    "    plt.savefig('./images/subscription_LastLogin')\n",
    "except:\n",
    "    import os\n",
    "    os.mkdir('./images')\n",
    "    plt.figure(figsize=(10, 6))\n",
    "    sns.barplot(x='subscription_type', y='last_login_days', data=train_df)\n",
    "    plt.tight_layout()\n",
    "    plt.savefig('./images/subscription_LastLogin')"
   ]
  },
  {
   "cell_type": "markdown",
   "id": "5d461bdb",
   "metadata": {},
   "source": [
    "## region"
   ]
  },
  {
   "cell_type": "code",
   "execution_count": 5,
   "id": "1959c04b",
   "metadata": {},
   "outputs": [
    {
     "data": {
      "image/png": "[encoded data removed]",
      "text/plain": [
       "<Figure size 1000x600 with 1 Axes>"
      ]
     },
     "metadata": {},
     "output_type": "display_data"
    }
   ],
   "source": [
    "# region(지역)별 last_login_days(마지막 접속 경과일)에 대한 막대 그래프\n",
    "\n",
    "plt.figure(figsize=(10, 6))\n",
    "sns.barplot(x='region', y='last_login_days', data=train_df)\n",
    "plt.tight_layout()\n",
    "plt.savefig('./images/region_LastLogin')"
   ]
  },
  {
   "cell_type": "markdown",
   "id": "b3024198",
   "metadata": {},
   "source": [
    "## payment_method"
   ]
  },
  {
   "cell_type": "code",
   "execution_count": 6,
   "id": "8ccd3d9e",
   "metadata": {},
   "outputs": [
    {
     "data": {
      "image/png": "[encoded data removed]",
      "text/plain": [
       "<Figure size 1000x600 with 1 Axes>"
      ]
     },
     "metadata": {},
     "output_type": "display_data"
    }
   ],
   "source": [
    "# payment_method(결제방식)별 last_login_days(마지막 접속 경과일)에 대한 막대 그래프\n",
    "\n",
    "plt.figure(figsize=(10, 6))\n",
    "sns.barplot(x='payment_method', y='last_login_days', data=train_df)\n",
    "plt.tight_layout()\n",
    "plt.savefig('./images/payment_LastLogin')"
   ]
  },
  {
   "cell_type": "code",
   "execution_count": null,
   "id": "ac7311cc",
   "metadata": {},
   "outputs": [],
   "source": []
  }
 ],
 "metadata": {
  "kernelspec": {
   "display_name": ".venv",
   "language": "python",
   "name": "python3"
  },
  "language_info": {
   "codemirror_mode": {
    "name": "ipython",
    "version": 3
   },
   "file_extension": ".py",
   "mimetype": "text/x-python",
   "name": "python",
   "nbconvert_exporter": "python",
   "pygments_lexer": "ipython3",
   "version": "3.13.5"
  }
 },
 "nbformat": 4,
 "nbformat_minor": 5
}
