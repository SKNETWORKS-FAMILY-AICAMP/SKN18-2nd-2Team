{
 "cells": [
  {
   "cell_type": "markdown",
   "id": "86b48762",
   "metadata": {},
   "source": [
    "# Netflix 이탈 데이터 불러오기"
   ]
  },
  {
   "cell_type": "code",
   "execution_count": 1,
   "id": "e203e652",
   "metadata": {},
   "outputs": [],
   "source": [
    "# train/test파일 읽기\n",
    "import pandas as pd\n",
    "\n",
    "train_df = pd.read_csv(\"./data/train.csv\")\n",
    "test_df = pd.read_csv(\"./data/test.csv\")"
   ]
  },
  {
   "cell_type": "code",
   "execution_count": 2,
   "id": "9a756e3e",
   "metadata": {},
   "outputs": [
    {
     "data": {
      "text/html": [
       "<div>\n",
       "<style scoped>\n",
       "    .dataframe tbody tr th:only-of-type {\n",
       "        vertical-align: middle;\n",
       "    }\n",
       "\n",
       "    .dataframe tbody tr th {\n",
       "        vertical-align: top;\n",
       "    }\n",
       "\n",
       "    .dataframe thead th {\n",
       "        text-align: right;\n",
       "    }\n",
       "</style>\n",
       "<table border=\"1\" class=\"dataframe\">\n",
       "  <thead>\n",
       "    <tr style=\"text-align: right;\">\n",
       "      <th></th>\n",
       "      <th>customer_id</th>\n",
       "      <th>age</th>\n",
       "      <th>gender</th>\n",
       "      <th>subscription_type</th>\n",
       "      <th>watch_hours</th>\n",
       "      <th>last_login_days</th>\n",
       "      <th>region</th>\n",
       "      <th>device</th>\n",
       "      <th>monthly_fee</th>\n",
       "      <th>payment_method</th>\n",
       "      <th>number_of_profiles</th>\n",
       "      <th>avg_watch_time_per_day</th>\n",
       "      <th>favorite_genre</th>\n",
       "      <th>churned</th>\n",
       "    </tr>\n",
       "  </thead>\n",
       "  <tbody>\n",
       "    <tr>\n",
       "      <th>0</th>\n",
       "      <td>5b9fc53d-960a-475a-b189-b54d9c7564a6</td>\n",
       "      <td>35</td>\n",
       "      <td>Female</td>\n",
       "      <td>Premium</td>\n",
       "      <td>8.44</td>\n",
       "      <td>47</td>\n",
       "      <td>Asia</td>\n",
       "      <td>Laptop</td>\n",
       "      <td>17.99</td>\n",
       "      <td>Crypto</td>\n",
       "      <td>4</td>\n",
       "      <td>0.18</td>\n",
       "      <td>Sci-Fi</td>\n",
       "      <td>1</td>\n",
       "    </tr>\n",
       "    <tr>\n",
       "      <th>1</th>\n",
       "      <td>44c431b4-0f1a-4403-b701-98ab0f23f260</td>\n",
       "      <td>70</td>\n",
       "      <td>Other</td>\n",
       "      <td>Standard</td>\n",
       "      <td>4.75</td>\n",
       "      <td>54</td>\n",
       "      <td>Europe</td>\n",
       "      <td>Mobile</td>\n",
       "      <td>13.99</td>\n",
       "      <td>Gift Card</td>\n",
       "      <td>3</td>\n",
       "      <td>0.09</td>\n",
       "      <td>Romance</td>\n",
       "      <td>1</td>\n",
       "    </tr>\n",
       "    <tr>\n",
       "      <th>2</th>\n",
       "      <td>5bdfbdcf-ab7b-41da-b1d5-51f819eb66dc</td>\n",
       "      <td>52</td>\n",
       "      <td>Female</td>\n",
       "      <td>Basic</td>\n",
       "      <td>22.21</td>\n",
       "      <td>54</td>\n",
       "      <td>Oceania</td>\n",
       "      <td>TV</td>\n",
       "      <td>8.99</td>\n",
       "      <td>Credit Card</td>\n",
       "      <td>1</td>\n",
       "      <td>0.40</td>\n",
       "      <td>Romance</td>\n",
       "      <td>1</td>\n",
       "    </tr>\n",
       "    <tr>\n",
       "      <th>3</th>\n",
       "      <td>a6439c47-77e6-4c51-b834-0f66b0f1a239</td>\n",
       "      <td>48</td>\n",
       "      <td>Female</td>\n",
       "      <td>Premium</td>\n",
       "      <td>9.65</td>\n",
       "      <td>60</td>\n",
       "      <td>Oceania</td>\n",
       "      <td>Laptop</td>\n",
       "      <td>17.99</td>\n",
       "      <td>Gift Card</td>\n",
       "      <td>4</td>\n",
       "      <td>0.16</td>\n",
       "      <td>Drama</td>\n",
       "      <td>1</td>\n",
       "    </tr>\n",
       "    <tr>\n",
       "      <th>4</th>\n",
       "      <td>9ab55bb5-1957-46a6-8472-d26b2fda624a</td>\n",
       "      <td>47</td>\n",
       "      <td>Other</td>\n",
       "      <td>Basic</td>\n",
       "      <td>13.22</td>\n",
       "      <td>8</td>\n",
       "      <td>North America</td>\n",
       "      <td>Mobile</td>\n",
       "      <td>8.99</td>\n",
       "      <td>Crypto</td>\n",
       "      <td>4</td>\n",
       "      <td>1.47</td>\n",
       "      <td>Action</td>\n",
       "      <td>0</td>\n",
       "    </tr>\n",
       "  </tbody>\n",
       "</table>\n",
       "</div>"
      ],
      "text/plain": [
       "                            customer_id  age  gender subscription_type  \\\n",
       "0  5b9fc53d-960a-475a-b189-b54d9c7564a6   35  Female           Premium   \n",
       "1  44c431b4-0f1a-4403-b701-98ab0f23f260   70   Other          Standard   \n",
       "2  5bdfbdcf-ab7b-41da-b1d5-51f819eb66dc   52  Female             Basic   \n",
       "3  a6439c47-77e6-4c51-b834-0f66b0f1a239   48  Female           Premium   \n",
       "4  9ab55bb5-1957-46a6-8472-d26b2fda624a   47   Other             Basic   \n",
       "\n",
       "   watch_hours  last_login_days         region  device  monthly_fee  \\\n",
       "0         8.44               47           Asia  Laptop        17.99   \n",
       "1         4.75               54         Europe  Mobile        13.99   \n",
       "2        22.21               54        Oceania      TV         8.99   \n",
       "3         9.65               60        Oceania  Laptop        17.99   \n",
       "4        13.22                8  North America  Mobile         8.99   \n",
       "\n",
       "  payment_method  number_of_profiles  avg_watch_time_per_day favorite_genre  \\\n",
       "0         Crypto                   4                    0.18         Sci-Fi   \n",
       "1      Gift Card                   3                    0.09        Romance   \n",
       "2    Credit Card                   1                    0.40        Romance   \n",
       "3      Gift Card                   4                    0.16          Drama   \n",
       "4         Crypto                   4                    1.47         Action   \n",
       "\n",
       "   churned  \n",
       "0        1  \n",
       "1        1  \n",
       "2        1  \n",
       "3        1  \n",
       "4        0  "
      ]
     },
     "execution_count": 2,
     "metadata": {},
     "output_type": "execute_result"
    }
   ],
   "source": [
    "# csv 파일 읽기\n",
    "train_df.head()"
   ]
  },
  {
   "cell_type": "markdown",
   "id": "0715a8f1",
   "metadata": {},
   "source": [
    "# 전처리 작업"
   ]
  },
  {
   "cell_type": "code",
   "execution_count": 3,
   "id": "06a2188e",
   "metadata": {},
   "outputs": [
    {
     "data": {
      "text/html": [
       "<div>\n",
       "<style scoped>\n",
       "    .dataframe tbody tr th:only-of-type {\n",
       "        vertical-align: middle;\n",
       "    }\n",
       "\n",
       "    .dataframe tbody tr th {\n",
       "        vertical-align: top;\n",
       "    }\n",
       "\n",
       "    .dataframe thead th {\n",
       "        text-align: right;\n",
       "    }\n",
       "</style>\n",
       "<table border=\"1\" class=\"dataframe\">\n",
       "  <thead>\n",
       "    <tr style=\"text-align: right;\">\n",
       "      <th></th>\n",
       "      <th>age</th>\n",
       "      <th>gender</th>\n",
       "      <th>subscription_type</th>\n",
       "      <th>watch_hours</th>\n",
       "      <th>last_login_days</th>\n",
       "      <th>region</th>\n",
       "      <th>device</th>\n",
       "      <th>monthly_fee</th>\n",
       "      <th>payment_method</th>\n",
       "      <th>number_of_profiles</th>\n",
       "      <th>avg_watch_time_per_day</th>\n",
       "      <th>favorite_genre</th>\n",
       "      <th>churned</th>\n",
       "    </tr>\n",
       "  </thead>\n",
       "  <tbody>\n",
       "    <tr>\n",
       "      <th>0</th>\n",
       "      <td>35</td>\n",
       "      <td>Female</td>\n",
       "      <td>Premium</td>\n",
       "      <td>8.44</td>\n",
       "      <td>47</td>\n",
       "      <td>Asia</td>\n",
       "      <td>Laptop</td>\n",
       "      <td>17.99</td>\n",
       "      <td>Crypto</td>\n",
       "      <td>4</td>\n",
       "      <td>0.18</td>\n",
       "      <td>Sci-Fi</td>\n",
       "      <td>1</td>\n",
       "    </tr>\n",
       "    <tr>\n",
       "      <th>1</th>\n",
       "      <td>70</td>\n",
       "      <td>Other</td>\n",
       "      <td>Standard</td>\n",
       "      <td>4.75</td>\n",
       "      <td>54</td>\n",
       "      <td>Europe</td>\n",
       "      <td>Mobile</td>\n",
       "      <td>13.99</td>\n",
       "      <td>Gift Card</td>\n",
       "      <td>3</td>\n",
       "      <td>0.09</td>\n",
       "      <td>Romance</td>\n",
       "      <td>1</td>\n",
       "    </tr>\n",
       "    <tr>\n",
       "      <th>2</th>\n",
       "      <td>52</td>\n",
       "      <td>Female</td>\n",
       "      <td>Basic</td>\n",
       "      <td>22.21</td>\n",
       "      <td>54</td>\n",
       "      <td>Oceania</td>\n",
       "      <td>TV</td>\n",
       "      <td>8.99</td>\n",
       "      <td>Credit Card</td>\n",
       "      <td>1</td>\n",
       "      <td>0.40</td>\n",
       "      <td>Romance</td>\n",
       "      <td>1</td>\n",
       "    </tr>\n",
       "    <tr>\n",
       "      <th>3</th>\n",
       "      <td>48</td>\n",
       "      <td>Female</td>\n",
       "      <td>Premium</td>\n",
       "      <td>9.65</td>\n",
       "      <td>60</td>\n",
       "      <td>Oceania</td>\n",
       "      <td>Laptop</td>\n",
       "      <td>17.99</td>\n",
       "      <td>Gift Card</td>\n",
       "      <td>4</td>\n",
       "      <td>0.16</td>\n",
       "      <td>Drama</td>\n",
       "      <td>1</td>\n",
       "    </tr>\n",
       "    <tr>\n",
       "      <th>4</th>\n",
       "      <td>47</td>\n",
       "      <td>Other</td>\n",
       "      <td>Basic</td>\n",
       "      <td>13.22</td>\n",
       "      <td>8</td>\n",
       "      <td>North America</td>\n",
       "      <td>Mobile</td>\n",
       "      <td>8.99</td>\n",
       "      <td>Crypto</td>\n",
       "      <td>4</td>\n",
       "      <td>1.47</td>\n",
       "      <td>Action</td>\n",
       "      <td>0</td>\n",
       "    </tr>\n",
       "    <tr>\n",
       "      <th>...</th>\n",
       "      <td>...</td>\n",
       "      <td>...</td>\n",
       "      <td>...</td>\n",
       "      <td>...</td>\n",
       "      <td>...</td>\n",
       "      <td>...</td>\n",
       "      <td>...</td>\n",
       "      <td>...</td>\n",
       "      <td>...</td>\n",
       "      <td>...</td>\n",
       "      <td>...</td>\n",
       "      <td>...</td>\n",
       "      <td>...</td>\n",
       "    </tr>\n",
       "    <tr>\n",
       "      <th>3495</th>\n",
       "      <td>64</td>\n",
       "      <td>Male</td>\n",
       "      <td>Premium</td>\n",
       "      <td>2.66</td>\n",
       "      <td>57</td>\n",
       "      <td>North America</td>\n",
       "      <td>Desktop</td>\n",
       "      <td>17.99</td>\n",
       "      <td>Credit Card</td>\n",
       "      <td>2</td>\n",
       "      <td>0.05</td>\n",
       "      <td>Romance</td>\n",
       "      <td>1</td>\n",
       "    </tr>\n",
       "    <tr>\n",
       "      <th>3496</th>\n",
       "      <td>20</td>\n",
       "      <td>Male</td>\n",
       "      <td>Basic</td>\n",
       "      <td>16.96</td>\n",
       "      <td>53</td>\n",
       "      <td>North America</td>\n",
       "      <td>Tablet</td>\n",
       "      <td>8.99</td>\n",
       "      <td>Gift Card</td>\n",
       "      <td>1</td>\n",
       "      <td>0.31</td>\n",
       "      <td>Action</td>\n",
       "      <td>1</td>\n",
       "    </tr>\n",
       "    <tr>\n",
       "      <th>3497</th>\n",
       "      <td>32</td>\n",
       "      <td>Female</td>\n",
       "      <td>Standard</td>\n",
       "      <td>52.67</td>\n",
       "      <td>34</td>\n",
       "      <td>Asia</td>\n",
       "      <td>Laptop</td>\n",
       "      <td>13.99</td>\n",
       "      <td>Gift Card</td>\n",
       "      <td>3</td>\n",
       "      <td>1.50</td>\n",
       "      <td>Sci-Fi</td>\n",
       "      <td>0</td>\n",
       "    </tr>\n",
       "    <tr>\n",
       "      <th>3498</th>\n",
       "      <td>67</td>\n",
       "      <td>Other</td>\n",
       "      <td>Standard</td>\n",
       "      <td>10.24</td>\n",
       "      <td>11</td>\n",
       "      <td>South America</td>\n",
       "      <td>Desktop</td>\n",
       "      <td>13.99</td>\n",
       "      <td>Debit Card</td>\n",
       "      <td>2</td>\n",
       "      <td>0.85</td>\n",
       "      <td>Romance</td>\n",
       "      <td>0</td>\n",
       "    </tr>\n",
       "    <tr>\n",
       "      <th>3499</th>\n",
       "      <td>44</td>\n",
       "      <td>Male</td>\n",
       "      <td>Standard</td>\n",
       "      <td>2.28</td>\n",
       "      <td>59</td>\n",
       "      <td>Asia</td>\n",
       "      <td>Laptop</td>\n",
       "      <td>13.99</td>\n",
       "      <td>Crypto</td>\n",
       "      <td>2</td>\n",
       "      <td>0.04</td>\n",
       "      <td>Comedy</td>\n",
       "      <td>1</td>\n",
       "    </tr>\n",
       "  </tbody>\n",
       "</table>\n",
       "<p>3500 rows × 13 columns</p>\n",
       "</div>"
      ],
      "text/plain": [
       "      age  gender subscription_type  watch_hours  last_login_days  \\\n",
       "0      35  Female           Premium         8.44               47   \n",
       "1      70   Other          Standard         4.75               54   \n",
       "2      52  Female             Basic        22.21               54   \n",
       "3      48  Female           Premium         9.65               60   \n",
       "4      47   Other             Basic        13.22                8   \n",
       "...   ...     ...               ...          ...              ...   \n",
       "3495   64    Male           Premium         2.66               57   \n",
       "3496   20    Male             Basic        16.96               53   \n",
       "3497   32  Female          Standard        52.67               34   \n",
       "3498   67   Other          Standard        10.24               11   \n",
       "3499   44    Male          Standard         2.28               59   \n",
       "\n",
       "             region   device  monthly_fee payment_method  number_of_profiles  \\\n",
       "0              Asia   Laptop        17.99         Crypto                   4   \n",
       "1            Europe   Mobile        13.99      Gift Card                   3   \n",
       "2           Oceania       TV         8.99    Credit Card                   1   \n",
       "3           Oceania   Laptop        17.99      Gift Card                   4   \n",
       "4     North America   Mobile         8.99         Crypto                   4   \n",
       "...             ...      ...          ...            ...                 ...   \n",
       "3495  North America  Desktop        17.99    Credit Card                   2   \n",
       "3496  North America   Tablet         8.99      Gift Card                   1   \n",
       "3497           Asia   Laptop        13.99      Gift Card                   3   \n",
       "3498  South America  Desktop        13.99     Debit Card                   2   \n",
       "3499           Asia   Laptop        13.99         Crypto                   2   \n",
       "\n",
       "      avg_watch_time_per_day favorite_genre  churned  \n",
       "0                       0.18         Sci-Fi        1  \n",
       "1                       0.09        Romance        1  \n",
       "2                       0.40        Romance        1  \n",
       "3                       0.16          Drama        1  \n",
       "4                       1.47         Action        0  \n",
       "...                      ...            ...      ...  \n",
       "3495                    0.05        Romance        1  \n",
       "3496                    0.31         Action        1  \n",
       "3497                    1.50         Sci-Fi        0  \n",
       "3498                    0.85        Romance        0  \n",
       "3499                    0.04         Comedy        1  \n",
       "\n",
       "[3500 rows x 13 columns]"
      ]
     },
     "execution_count": 3,
     "metadata": {},
     "output_type": "execute_result"
    }
   ],
   "source": [
    "# 필요없는 컬럼제거: customer_id\n",
    "train_df = train_df.drop(columns=['customer_id'], axis=1)\n",
    "train_df"
   ]
  },
  {
   "cell_type": "code",
   "execution_count": 4,
   "id": "556038b2",
   "metadata": {},
   "outputs": [
    {
     "data": {
      "text/plain": [
       "(3500, 12)"
      ]
     },
     "execution_count": 4,
     "metadata": {},
     "output_type": "execute_result"
    }
   ],
   "source": [
    "# target과 나머지 features로 분류\n",
    "target = train_df['churned']\n",
    "features = train_df.drop(columns=['churned'], axis=1)\n",
    "features.shape"
   ]
  },
  {
   "cell_type": "code",
   "execution_count": 5,
   "id": "a46a04c6",
   "metadata": {},
   "outputs": [
    {
     "data": {
      "text/plain": [
       "(3500,)"
      ]
     },
     "execution_count": 5,
     "metadata": {},
     "output_type": "execute_result"
    }
   ],
   "source": [
    "target.shape"
   ]
  },
  {
   "cell_type": "code",
   "execution_count": 6,
   "id": "9a0a311b",
   "metadata": {},
   "outputs": [
    {
     "data": {
      "text/plain": [
       "churned\n",
       "1    1761\n",
       "0    1739\n",
       "Name: count, dtype: int64"
      ]
     },
     "execution_count": 6,
     "metadata": {},
     "output_type": "execute_result"
    }
   ],
   "source": [
    "# target 데이터의 0과 1의 개수 파악\n",
    "target.value_counts()"
   ]
  },
  {
   "cell_type": "code",
   "execution_count": 7,
   "id": "d46bd103",
   "metadata": {},
   "outputs": [
    {
     "data": {
      "text/plain": [
       "((2800, 12), (700, 12), (2800,), (700,))"
      ]
     },
     "execution_count": 7,
     "metadata": {},
     "output_type": "execute_result"
    }
   ],
   "source": [
    "# target과 features에 대해서 train_test_split 진행\n",
    "from sklearn.model_selection import train_test_split\n",
    "X_train, X_test, y_train, y_test = train_test_split(features, target, test_size=0.2, random_state=42)\n",
    "X_train.shape, X_test.shape, y_train.shape, y_test.shape"
   ]
  },
  {
   "cell_type": "code",
   "execution_count": 8,
   "id": "9de5c689",
   "metadata": {},
   "outputs": [
    {
     "name": "stdout",
     "output_type": "stream",
     "text": [
      "<class 'pandas.core.frame.DataFrame'>\n",
      "Index: 2800 entries, 162 to 3174\n",
      "Data columns (total 12 columns):\n",
      " #   Column                  Non-Null Count  Dtype  \n",
      "---  ------                  --------------  -----  \n",
      " 0   age                     2800 non-null   int64  \n",
      " 1   gender                  2800 non-null   object \n",
      " 2   subscription_type       2800 non-null   object \n",
      " 3   watch_hours             2800 non-null   float64\n",
      " 4   last_login_days         2800 non-null   int64  \n",
      " 5   region                  2800 non-null   object \n",
      " 6   device                  2800 non-null   object \n",
      " 7   monthly_fee             2800 non-null   float64\n",
      " 8   payment_method          2800 non-null   object \n",
      " 9   number_of_profiles      2800 non-null   int64  \n",
      " 10  avg_watch_time_per_day  2800 non-null   float64\n",
      " 11  favorite_genre          2800 non-null   object \n",
      "dtypes: float64(3), int64(3), object(6)\n",
      "memory usage: 284.4+ KB\n"
     ]
    }
   ],
   "source": [
    "# X_train 정보확인\n",
    "X_train.info()"
   ]
  },
  {
   "cell_type": "code",
   "execution_count": 9,
   "id": "ff09cca2",
   "metadata": {},
   "outputs": [
    {
     "name": "stdout",
     "output_type": "stream",
     "text": [
      "<class 'pandas.core.frame.DataFrame'>\n",
      "Index: 700 entries, 1650 to 2213\n",
      "Data columns (total 12 columns):\n",
      " #   Column                  Non-Null Count  Dtype  \n",
      "---  ------                  --------------  -----  \n",
      " 0   age                     700 non-null    int64  \n",
      " 1   gender                  700 non-null    object \n",
      " 2   subscription_type       700 non-null    object \n",
      " 3   watch_hours             700 non-null    float64\n",
      " 4   last_login_days         700 non-null    int64  \n",
      " 5   region                  700 non-null    object \n",
      " 6   device                  700 non-null    object \n",
      " 7   monthly_fee             700 non-null    float64\n",
      " 8   payment_method          700 non-null    object \n",
      " 9   number_of_profiles      700 non-null    int64  \n",
      " 10  avg_watch_time_per_day  700 non-null    float64\n",
      " 11  favorite_genre          700 non-null    object \n",
      "dtypes: float64(3), int64(3), object(6)\n",
      "memory usage: 71.1+ KB\n"
     ]
    }
   ],
   "source": [
    "# X_test 정보확인\n",
    "X_test.info()"
   ]
  },
  {
   "cell_type": "markdown",
   "id": "0c37699f",
   "metadata": {},
   "source": [
    "# featuring을 위한 수치형 데이터에 대한 heatmap"
   ]
  },
  {
   "cell_type": "code",
   "execution_count": 10,
   "id": "52486d89",
   "metadata": {},
   "outputs": [
    {
     "data": {
      "image/png": "[encoded data removed]",
      "text/plain": [
       "<Figure size 800x600 with 2 Axes>"
      ]
     },
     "metadata": {},
     "output_type": "display_data"
    }
   ],
   "source": [
    "import matplotlib.pyplot as plt\n",
    "import seaborn as sns\n",
    "train_data = pd.concat([X_train, y_train], axis=1)\n",
    "# 수치형 데이터에 대한 heatmap 상관관계 분석\n",
    "numeric_cols = train_data.select_dtypes(include=['float64', 'int64'])\n",
    "\n",
    "# 상관관계 계산\n",
    "corr = numeric_cols.corr()\n",
    "\n",
    "# 히트맵 시각화\n",
    "plt.figure(figsize=(8, 6))\n",
    "sns.heatmap(corr, annot=True, cmap='coolwarm', fmt=\".2f\")\n",
    "plt.title('Correlation with churned')\n",
    "try:\n",
    "    plt.tight_layout()\n",
    "    plt.show()\n",
    "except:\n",
    "    import os\n",
    "    os.mkdir(\"./images\")\n",
    "    plt.tight_layout()\n",
    "    plt.show()"
   ]
  },
  {
   "cell_type": "markdown",
   "id": "97f14662",
   "metadata": {},
   "source": [
    "- watch_hours와 last_login_days가 이탈(churned)에 중요 feature\n",
    "- 여기에서 중점은 위의 두개의 features를 pivot으로 하고, 각 문자열(type: object) 데이터와 featuring 진행\n",
    "- 수치형 데이터를 category로 변환(예: watch_hours => 5미만, 5이상 10미만 ...)\n",
    "- 진행예시: gender(성별)별 watch_hours(시청시간), subscription_type(구독방식)별 last_login_days(마지막 로그인 경과일)"
   ]
  },
  {
   "cell_type": "markdown",
   "id": "3d5b3e20",
   "metadata": {},
   "source": [
    "# 수치형 데이터를 category 형식으로 변경"
   ]
  },
  {
   "cell_type": "markdown",
   "id": "11262648",
   "metadata": {},
   "source": [
    "## watch_hours"
   ]
  },
  {
   "cell_type": "code",
   "execution_count": 11,
   "id": "223de698",
   "metadata": {},
   "outputs": [
    {
     "data": {
      "text/plain": [
       "(np.float64(0.01), np.float64(8.18), np.float64(11.5527), np.float64(101.06))"
      ]
     },
     "execution_count": 11,
     "metadata": {},
     "output_type": "execute_result"
    }
   ],
   "source": [
    "# train의 watch_hours 최솟값, 중앙값, 평균값, 최댓값 설정\n",
    "watch_hours_train = X_train['watch_hours']\n",
    "watch_hours_train.min(), watch_hours_train.median(), watch_hours_train.mean(), watch_hours_train.max()"
   ]
  },
  {
   "cell_type": "code",
   "execution_count": 12,
   "id": "b61072b7",
   "metadata": {},
   "outputs": [
    {
     "data": {
      "image/png": "[encoded data removed]",
      "text/plain": [
       "<Figure size 640x480 with 1 Axes>"
      ]
     },
     "metadata": {},
     "output_type": "display_data"
    }
   ],
   "source": [
    "# watch_hours_train의 boxplot\n",
    "plt.boxplot(watch_hours_train)\n",
    "plt.show()"
   ]
  },
  {
   "cell_type": "markdown",
   "id": "521d1af6",
   "metadata": {},
   "source": [
    "### featuring 방안\n",
    "- 0: X < watch_hours_train.median()\n",
    "- 1: watch_hours_train.median() <= X < 20\n",
    "- 2: 20 <= X < 40\n",
    "- 3: X >= 40"
   ]
  },
  {
   "cell_type": "code",
   "execution_count": 18,
   "id": "525c0a92",
   "metadata": {},
   "outputs": [],
   "source": [
    "# watch_hours featuring\n",
    "def watch_hours_feature(data, watch_hours):\n",
    "    result = 3\n",
    "    if data < 40:\n",
    "        result = 2\n",
    "    if data < 20:\n",
    "        result = 1\n",
    "    if data < watch_hours.median():\n",
    "        result = 0\n",
    "\n"
   ]
  },
  {
   "cell_type": "code",
   "execution_count": null,
   "id": "2c7d6f6a",
   "metadata": {},
   "outputs": [],
   "source": []
  }
 ],
 "metadata": {
  "kernelspec": {
   "display_name": ".venv",
   "language": "python",
   "name": "python3"
  },
  "language_info": {
   "codemirror_mode": {
    "name": "ipython",
    "version": 3
   },
   "file_extension": ".py",
   "mimetype": "text/x-python",
   "name": "python",
   "nbconvert_exporter": "python",
   "pygments_lexer": "ipython3",
   "version": "3.13.5"
  }
 },
 "nbformat": 4,
 "nbformat_minor": 5
}
